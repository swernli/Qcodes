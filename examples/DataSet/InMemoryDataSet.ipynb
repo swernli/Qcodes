{
 "cells": [
  {
   "cell_type": "markdown",
   "metadata": {},
   "source": [
    "# In memory dataset"
   ]
  },
  {
   "cell_type": "markdown",
   "metadata": {},
   "source": [
    "This notebooks explains an alternative way of measuring where the raw data is not written directly to a sqlite database file but only kept in memory with the ability to export the data after the measurement is completed. This may significantly speed up measurements where a lot of data is acquired but there is no protection against any data lose that may happen during a measurement. (Power loss, computer crash etc.) However, there may be situations where this trade-off is worthwhile. Please do only use the in memory dataset for measurements if you understand the risks. "
   ]
  },
  {
   "cell_type": "code",
   "execution_count": 1,
   "metadata": {
    "execution": {
     "iopub.execute_input": "2022-06-09T12:01:34.760581Z",
     "iopub.status.busy": "2022-06-09T12:01:34.760307Z",
     "iopub.status.idle": "2022-06-09T12:01:35.935964Z",
     "shell.execute_reply": "2022-06-09T12:01:35.934838Z"
    }
   },
   "outputs": [],
   "source": [
    "%matplotlib inline\n",
    "import numpy.random as rd\n",
    "import matplotlib.pyplot as plt\n",
    "import numpy as np\n",
    "\n",
    "import qcodes as qc\n",
    "from qcodes.dataset import (\n",
    "    load_or_create_experiment,\n",
    "    load_by_guid,\n",
    "    load_by_run_spec,\n",
    "    initialise_or_create_database_at,\n",
    "    Measurement,\n",
    "    DataSetType,\n",
    ")\n",
    "from qcodes.tests.instrument_mocks import (\n",
    "    DummyInstrument,\n",
    "    DummyInstrumentWithMeasurement,\n",
    ")\n",
    "from qcodes.dataset.plotting import plot_dataset"
   ]
  },
  {
   "cell_type": "markdown",
   "metadata": {},
   "source": [
    "Here we set up two mock instruments and a database to measure into:"
   ]
  },
  {
   "cell_type": "code",
   "execution_count": 2,
   "metadata": {
    "execution": {
     "iopub.execute_input": "2022-06-09T12:01:35.940457Z",
     "iopub.status.busy": "2022-06-09T12:01:35.940072Z",
     "iopub.status.idle": "2022-06-09T12:01:35.949300Z",
     "shell.execute_reply": "2022-06-09T12:01:35.948444Z"
    }
   },
   "outputs": [
    {
     "name": "stderr",
     "output_type": "stream",
     "text": [
      "[dmm(DummyInstrumentWithMeasurement)] Error getting or interpreting *IDN?: ''\n",
      "Traceback (most recent call last):\n",
      "  File \"/opt/hostedtoolcache/Python/3.9.13/x64/lib/python3.9/site-packages/qcodes/instrument/base.py\", line 635, in get_idn\n",
      "    idstr = self.ask('*IDN?')\n",
      "  File \"/opt/hostedtoolcache/Python/3.9.13/x64/lib/python3.9/site-packages/qcodes/instrument/base.py\", line 956, in ask\n",
      "    raise e\n",
      "  File \"/opt/hostedtoolcache/Python/3.9.13/x64/lib/python3.9/site-packages/qcodes/instrument/base.py\", line 949, in ask\n",
      "    answer = self.ask_raw(cmd)\n",
      "  File \"/opt/hostedtoolcache/Python/3.9.13/x64/lib/python3.9/site-packages/qcodes/instrument/base.py\", line 969, in ask_raw\n",
      "    raise NotImplementedError(\n",
      "NotImplementedError: ('Instrument DummyInstrumentWithMeasurement has not defined an ask method', \"asking '*IDN?' to <DummyInstrumentWithMeasurement: dmm>\")\n"
     ]
    },
    {
     "name": "stderr",
     "output_type": "stream",
     "text": [
      "[dac(DummyInstrument)] Error getting or interpreting *IDN?: ''\n",
      "Traceback (most recent call last):\n",
      "  File \"/opt/hostedtoolcache/Python/3.9.13/x64/lib/python3.9/site-packages/qcodes/instrument/base.py\", line 635, in get_idn\n",
      "    idstr = self.ask('*IDN?')\n",
      "  File \"/opt/hostedtoolcache/Python/3.9.13/x64/lib/python3.9/site-packages/qcodes/instrument/base.py\", line 956, in ask\n",
      "    raise e\n",
      "  File \"/opt/hostedtoolcache/Python/3.9.13/x64/lib/python3.9/site-packages/qcodes/instrument/base.py\", line 949, in ask\n",
      "    answer = self.ask_raw(cmd)\n",
      "  File \"/opt/hostedtoolcache/Python/3.9.13/x64/lib/python3.9/site-packages/qcodes/instrument/base.py\", line 969, in ask_raw\n",
      "    raise NotImplementedError(\n",
      "NotImplementedError: ('Instrument DummyInstrument has not defined an ask method', \"asking '*IDN?' to <DummyInstrument: dac>\")\n"
     ]
    }
   ],
   "source": [
    "# preparatory mocking of physical setup\n",
    "\n",
    "dac = DummyInstrument(\"dac\", gates=[\"ch1\", \"ch2\"])\n",
    "dmm = DummyInstrumentWithMeasurement(name=\"dmm\", setter_instr=dac)\n",
    "\n",
    "station = qc.Station(dmm, dac)"
   ]
  },
  {
   "cell_type": "code",
   "execution_count": 3,
   "metadata": {
    "execution": {
     "iopub.execute_input": "2022-06-09T12:01:35.952869Z",
     "iopub.status.busy": "2022-06-09T12:01:35.952470Z",
     "iopub.status.idle": "2022-06-09T12:01:36.050128Z",
     "shell.execute_reply": "2022-06-09T12:01:36.049329Z"
    }
   },
   "outputs": [
    {
     "name": "stdout",
     "output_type": "stream",
     "text": [
      "\r",
      "0it [00:00, ?it/s]"
     ]
    },
    {
     "name": "stdout",
     "output_type": "stream",
     "text": [
      "\r",
      "Upgrading database; v0 -> v1: : 0it [00:00, ?it/s]"
     ]
    },
    {
     "name": "stdout",
     "output_type": "stream",
     "text": [
      "\r",
      "Upgrading database; v0 -> v1: : 0it [00:00, ?it/s]"
     ]
    },
    {
     "name": "stdout",
     "output_type": "stream",
     "text": [
      "\n"
     ]
    },
    {
     "name": "stdout",
     "output_type": "stream",
     "text": [
      "\r",
      "  0%|          | 0/1 [00:00<?, ?it/s]"
     ]
    },
    {
     "name": "stdout",
     "output_type": "stream",
     "text": [
      "\r",
      "Upgrading database; v1 -> v2:   0%|          | 0/1 [00:00<?, ?it/s]"
     ]
    },
    {
     "name": "stdout",
     "output_type": "stream",
     "text": [
      "\r",
      "Upgrading database; v1 -> v2: 100%|██████████| 1/1 [00:00<00:00, 452.51it/s]"
     ]
    },
    {
     "name": "stdout",
     "output_type": "stream",
     "text": [
      "\n"
     ]
    },
    {
     "name": "stdout",
     "output_type": "stream",
     "text": [
      "\r",
      "0it [00:00, ?it/s]"
     ]
    },
    {
     "name": "stdout",
     "output_type": "stream",
     "text": [
      "\r",
      "Upgrading database; v2 -> v3: : 0it [00:00, ?it/s]"
     ]
    },
    {
     "name": "stdout",
     "output_type": "stream",
     "text": [
      "\r",
      "Upgrading database; v2 -> v3: : 0it [00:00, ?it/s]"
     ]
    },
    {
     "name": "stdout",
     "output_type": "stream",
     "text": [
      "\n"
     ]
    },
    {
     "name": "stdout",
     "output_type": "stream",
     "text": [
      "\r",
      "0it [00:00, ?it/s]"
     ]
    },
    {
     "name": "stdout",
     "output_type": "stream",
     "text": [
      "\r",
      "Upgrading database; v3 -> v4: : 0it [00:00, ?it/s]"
     ]
    },
    {
     "name": "stdout",
     "output_type": "stream",
     "text": [
      "\r",
      "Upgrading database; v3 -> v4: : 0it [00:00, ?it/s]"
     ]
    },
    {
     "name": "stdout",
     "output_type": "stream",
     "text": [
      "\n"
     ]
    },
    {
     "name": "stdout",
     "output_type": "stream",
     "text": [
      "\r",
      "  0%|          | 0/1 [00:00<?, ?it/s]"
     ]
    },
    {
     "name": "stdout",
     "output_type": "stream",
     "text": [
      "\r",
      "Upgrading database; v4 -> v5:   0%|          | 0/1 [00:00<?, ?it/s]"
     ]
    },
    {
     "name": "stdout",
     "output_type": "stream",
     "text": [
      "\r",
      "Upgrading database; v4 -> v5: 100%|██████████| 1/1 [00:00<00:00, 795.88it/s]"
     ]
    },
    {
     "name": "stdout",
     "output_type": "stream",
     "text": [
      "\n"
     ]
    },
    {
     "name": "stdout",
     "output_type": "stream",
     "text": [
      "\r",
      "0it [00:00, ?it/s]"
     ]
    },
    {
     "name": "stdout",
     "output_type": "stream",
     "text": [
      "\r",
      "Upgrading database; v5 -> v6: : 0it [00:00, ?it/s]"
     ]
    },
    {
     "name": "stdout",
     "output_type": "stream",
     "text": [
      "\r",
      "Upgrading database; v5 -> v6: : 0it [00:00, ?it/s]"
     ]
    },
    {
     "name": "stdout",
     "output_type": "stream",
     "text": [
      "\n"
     ]
    },
    {
     "name": "stdout",
     "output_type": "stream",
     "text": [
      "\r",
      "  0%|          | 0/1 [00:00<?, ?it/s]"
     ]
    },
    {
     "name": "stdout",
     "output_type": "stream",
     "text": [
      "\r",
      "Upgrading database; v6 -> v7:   0%|          | 0/1 [00:00<?, ?it/s]"
     ]
    },
    {
     "name": "stdout",
     "output_type": "stream",
     "text": [
      "\r",
      "Upgrading database; v6 -> v7: 100%|██████████| 1/1 [00:00<00:00, 355.48it/s]"
     ]
    },
    {
     "name": "stdout",
     "output_type": "stream",
     "text": [
      "\n"
     ]
    },
    {
     "name": "stdout",
     "output_type": "stream",
     "text": [
      "\r",
      "  0%|          | 0/1 [00:00<?, ?it/s]"
     ]
    },
    {
     "name": "stdout",
     "output_type": "stream",
     "text": [
      "\r",
      "Upgrading database; v7 -> v8:   0%|          | 0/1 [00:00<?, ?it/s]"
     ]
    },
    {
     "name": "stdout",
     "output_type": "stream",
     "text": [
      "\r",
      "Upgrading database; v7 -> v8: 100%|██████████| 1/1 [00:00<00:00, 469.00it/s]"
     ]
    },
    {
     "name": "stdout",
     "output_type": "stream",
     "text": [
      "\n"
     ]
    },
    {
     "name": "stdout",
     "output_type": "stream",
     "text": [
      "\r",
      "  0%|          | 0/1 [00:00<?, ?it/s]"
     ]
    },
    {
     "name": "stdout",
     "output_type": "stream",
     "text": [
      "\r",
      "Upgrading database; v8 -> v9:   0%|          | 0/1 [00:00<?, ?it/s]"
     ]
    },
    {
     "name": "stdout",
     "output_type": "stream",
     "text": [
      "\r",
      "Upgrading database; v8 -> v9: 100%|██████████| 1/1 [00:00<00:00, 1003.90it/s]"
     ]
    },
    {
     "name": "stdout",
     "output_type": "stream",
     "text": [
      "\n"
     ]
    }
   ],
   "source": [
    "initialise_or_create_database_at(\"./in_mem_example.db\")\n",
    "exp = load_or_create_experiment(experiment_name=\"in_mem_exp\", sample_name=\"no sample\")"
   ]
  },
  {
   "cell_type": "markdown",
   "metadata": {},
   "source": [
    "And run a standard experiment writing data to the database: "
   ]
  },
  {
   "cell_type": "code",
   "execution_count": 4,
   "metadata": {
    "execution": {
     "iopub.execute_input": "2022-06-09T12:01:36.053776Z",
     "iopub.status.busy": "2022-06-09T12:01:36.053499Z",
     "iopub.status.idle": "2022-06-09T12:01:36.077173Z",
     "shell.execute_reply": "2022-06-09T12:01:36.076331Z"
    }
   },
   "outputs": [
    {
     "name": "stdout",
     "output_type": "stream",
     "text": [
      "Starting experimental run with id: 1. \n"
     ]
    }
   ],
   "source": [
    "meas = Measurement(exp=exp)\n",
    "meas.register_parameter(dac.ch1)  # register the first independent parameter\n",
    "meas.register_parameter(dmm.v1, setpoints=(dac.ch1,))  # now register the dependent oone\n",
    "\n",
    "meas.write_period = 0.5\n",
    "\n",
    "with meas.run() as datasaver:\n",
    "    for set_v in np.linspace(0, 25, 10):\n",
    "        dac.ch1.set(set_v)\n",
    "        get_v = dmm.v1.get()\n",
    "        datasaver.add_result((dac.ch1, set_v), (dmm.v1, get_v))\n",
    "\n",
    "    dataset1D = datasaver.dataset  # convenient to have for data access and plotting"
   ]
  },
  {
   "cell_type": "code",
   "execution_count": 5,
   "metadata": {
    "execution": {
     "iopub.execute_input": "2022-06-09T12:01:36.080721Z",
     "iopub.status.busy": "2022-06-09T12:01:36.080444Z",
     "iopub.status.idle": "2022-06-09T12:01:36.212654Z",
     "shell.execute_reply": "2022-06-09T12:01:36.211845Z"
    }
   },
   "outputs": [
    {
     "data": {
      "image/png": "[encoded data removed]",
      "text/plain": [
       "<Figure size 432x288 with 1 Axes>"
      ]
     },
     "metadata": {
      "needs_background": "light"
     },
     "output_type": "display_data"
    }
   ],
   "source": [
    "ax, cbax = plot_dataset(dataset1D)"
   ]
  },
  {
   "cell_type": "markdown",
   "metadata": {},
   "source": [
    "The in memory measurement looks nearly identical with the only difference being that we explicitly pass in an Enum to select the dataset class that we want to use as a parameter to ``measurement.run``\n",
    "\n",
    "The ``DataSetType`` Enum currently has 2 members representing the two different types of dataset supported."
   ]
  },
  {
   "cell_type": "code",
   "execution_count": 6,
   "metadata": {
    "execution": {
     "iopub.execute_input": "2022-06-09T12:01:36.217917Z",
     "iopub.status.busy": "2022-06-09T12:01:36.216293Z",
     "iopub.status.idle": "2022-06-09T12:01:36.242988Z",
     "shell.execute_reply": "2022-06-09T12:01:36.242137Z"
    }
   },
   "outputs": [
    {
     "name": "stdout",
     "output_type": "stream",
     "text": [
      "Starting experimental run with id: 2. \n"
     ]
    }
   ],
   "source": [
    "with meas.run(dataset_class=DataSetType.DataSetInMem) as datasaver:\n",
    "    for set_v in np.linspace(0, 25, 10):\n",
    "        dac.ch1.set(set_v)\n",
    "        get_v = dmm.v1.get()\n",
    "        datasaver.add_result((dac.ch1, set_v), (dmm.v1, get_v))\n",
    "    datasetinmem = datasaver.dataset"
   ]
  },
  {
   "cell_type": "code",
   "execution_count": 7,
   "metadata": {
    "execution": {
     "iopub.execute_input": "2022-06-09T12:01:36.246864Z",
     "iopub.status.busy": "2022-06-09T12:01:36.246577Z",
     "iopub.status.idle": "2022-06-09T12:01:36.373307Z",
     "shell.execute_reply": "2022-06-09T12:01:36.372488Z"
    }
   },
   "outputs": [
    {
     "data": {
      "image/png": "[encoded data removed]",
      "text/plain": [
       "<Figure size 432x288 with 1 Axes>"
      ]
     },
     "metadata": {
      "needs_background": "light"
     },
     "output_type": "display_data"
    }
   ],
   "source": [
    "ax, cbax = plot_dataset(datasetinmem)"
   ]
  },
  {
   "cell_type": "code",
   "execution_count": 8,
   "metadata": {
    "execution": {
     "iopub.execute_input": "2022-06-09T12:01:36.377503Z",
     "iopub.status.busy": "2022-06-09T12:01:36.376966Z",
     "iopub.status.idle": "2022-06-09T12:01:36.382767Z",
     "shell.execute_reply": "2022-06-09T12:01:36.381906Z"
    }
   },
   "outputs": [
    {
     "data": {
      "text/plain": [
       "2"
      ]
     },
     "execution_count": 8,
     "metadata": {},
     "output_type": "execute_result"
    }
   ],
   "source": [
    "datasetinmem.run_id"
   ]
  },
  {
   "cell_type": "markdown",
   "metadata": {},
   "source": [
    "When the measurement is performed in this way the data is not written to the database but the metadata (run_id, timestamps, snapshot etc.) is.\n",
    "\n",
    "To preserve the raw data it must be exported it to another file format. See [Exporting QCoDes Datasets](./Exporting-data-to-other-file-formats.ipynb) for more information on exporting including how this can be done automatically."
   ]
  },
  {
   "cell_type": "code",
   "execution_count": 9,
   "metadata": {
    "execution": {
     "iopub.execute_input": "2022-06-09T12:01:36.386300Z",
     "iopub.status.busy": "2022-06-09T12:01:36.386039Z",
     "iopub.status.idle": "2022-06-09T12:01:36.571403Z",
     "shell.execute_reply": "2022-06-09T12:01:36.570447Z"
    }
   },
   "outputs": [],
   "source": [
    "datasetinmem.export(\"netcdf\", path=\".\")"
   ]
  },
  {
   "cell_type": "markdown",
   "metadata": {},
   "source": [
    "The `export_info` attribute contains information about locations where the file was exported to. We will use this below to show how the data may be reloaded from a netcdf file."
   ]
  },
  {
   "cell_type": "code",
   "execution_count": 10,
   "metadata": {
    "execution": {
     "iopub.execute_input": "2022-06-09T12:01:36.575594Z",
     "iopub.status.busy": "2022-06-09T12:01:36.575342Z",
     "iopub.status.idle": "2022-06-09T12:01:36.580207Z",
     "shell.execute_reply": "2022-06-09T12:01:36.579447Z"
    }
   },
   "outputs": [
    {
     "data": {
      "text/plain": [
       "'/home/runner/work/Qcodes/Qcodes/docs/examples/DataSet/qcodes_2_aaaaaaaa-0000-0000-0000-0181485765dd.nc'"
      ]
     },
     "execution_count": 10,
     "metadata": {},
     "output_type": "execute_result"
    }
   ],
   "source": [
    "path_to_netcdf = datasetinmem.export_info.export_paths[\"nc\"]\n",
    "path_to_netcdf"
   ]
  },
  {
   "cell_type": "markdown",
   "metadata": {},
   "source": [
    "As expected we can see this file in the current directory."
   ]
  },
  {
   "cell_type": "code",
   "execution_count": 11,
   "metadata": {
    "execution": {
     "iopub.execute_input": "2022-06-09T12:01:36.584668Z",
     "iopub.status.busy": "2022-06-09T12:01:36.584422Z",
     "iopub.status.idle": "2022-06-09T12:01:36.759099Z",
     "shell.execute_reply": "2022-06-09T12:01:36.758086Z"
    }
   },
   "outputs": [
    {
     "name": "stdout",
     "output_type": "stream",
     "text": [
      "Accessing-data-in-DataSet.ipynb\r\n",
      "Benchmarking.ipynb\r\n",
      "Cache\r\n",
      "DataSet-class-walkthrough.ipynb\r\n",
      "Database.ipynb\r\n",
      "Dataset_Performance.ipynb\r\n",
      "Exporting-data-to-other-file-formats.ipynb\r\n",
      "Extracting-runs-from-one-DB-file-to-another.ipynb\r\n",
      "InMemoryDataSet.ipynb\r\n",
      "Linking\\ to\\ parent\\ datasets.ipynb\r\n",
      "Measuring\\ X\\ as\\ a\\ function\\ of\\ time.ipynb\r\n",
      "Offline\\ Plotting\\ Tutorial.ipynb\r\n",
      "Offline\\ plotting\\ with\\ categorical\\ data.ipynb\r\n",
      "Offline\\ plotting\\ with\\ complex\\ data.ipynb\r\n",
      "Paramtypes\\ explained.ipynb\r\n",
      "Pedestrian\\ example\\ of\\ subscribing\\ to\\ a\\ DataSet.ipynb\r\n",
      "Performing-measurements-using-qcodes-parameters-and-dataset.ipynb\r\n",
      "QCoDeS_example.db\r\n",
      "Real_instruments\r\n",
      "Saving_data_in_the_background.ipynb\r\n",
      "The-Experiment-Container.ipynb\r\n",
      "Threaded\\ data\\ acquisition.ipynb\r\n",
      "Using_doNd_functions_in_comparison_to_Measurement_context_manager_for_performing_measurements.ipynb\r\n",
      "Working\\ with\\ snapshots.ipynb\r\n",
      "Working-With-Pandas-and-XArray.ipynb\r\n",
      "export_example.db\r\n",
      "extract_runs_notebook_source.db\r\n",
      "extract_runs_notebook_source_aux.db\r\n",
      "extract_runs_notebook_target.db\r\n",
      "import-data-from-legacy-dat-files.ipynb\r\n",
      "in_mem_example.db\r\n",
      "in_mem_example.db-shm\r\n",
      "in_mem_example.db-wal\r\n",
      "qcodes_2_aaaaaaaa-0000-0000-0000-0181485714dc.nc\r\n",
      "qcodes_2_aaaaaaaa-0000-0000-0000-0181485765dd.nc\r\n",
      "reimport_example.db\r\n",
      "somefile.nc\r\n",
      "subscriber\\ json\\ exporter.ipynb\r\n",
      "testing.db\r\n"
     ]
    }
   ],
   "source": [
    "!dir"
   ]
  },
  {
   "cell_type": "markdown",
   "metadata": {},
   "source": [
    "Note that you can interact with the dataset via the `cache` attribute of the dataset in the same way as you can with a regular dataset. However the in memory dataset does not implement methods that provide direct access to the data from the dataset object it self (get_parameter_data etc.) since these read data from the database. "
   ]
  },
  {
   "cell_type": "markdown",
   "metadata": {},
   "source": [
    "## Reloading data from db and exported file"
   ]
  },
  {
   "cell_type": "code",
   "execution_count": 12,
   "metadata": {
    "execution": {
     "iopub.execute_input": "2022-06-09T12:01:36.763261Z",
     "iopub.status.busy": "2022-06-09T12:01:36.762925Z",
     "iopub.status.idle": "2022-06-09T12:01:36.767510Z",
     "shell.execute_reply": "2022-06-09T12:01:36.766743Z"
    }
   },
   "outputs": [],
   "source": [
    "from qcodes import load_by_run_spec\n",
    "from qcodes.dataset.plotting import plot_dataset"
   ]
  },
  {
   "cell_type": "code",
   "execution_count": 13,
   "metadata": {
    "execution": {
     "iopub.execute_input": "2022-06-09T12:01:36.770751Z",
     "iopub.status.busy": "2022-06-09T12:01:36.770502Z",
     "iopub.status.idle": "2022-06-09T12:01:36.806843Z",
     "shell.execute_reply": "2022-06-09T12:01:36.805888Z"
    }
   },
   "outputs": [],
   "source": [
    "ds = load_by_run_spec(captured_run_id=datasetinmem.captured_run_id)"
   ]
  },
  {
   "cell_type": "code",
   "execution_count": 14,
   "metadata": {
    "execution": {
     "iopub.execute_input": "2022-06-09T12:01:36.810279Z",
     "iopub.status.busy": "2022-06-09T12:01:36.810025Z",
     "iopub.status.idle": "2022-06-09T12:01:36.934591Z",
     "shell.execute_reply": "2022-06-09T12:01:36.933908Z"
    }
   },
   "outputs": [
    {
     "data": {
      "text/plain": [
       "([<AxesSubplot:title={'center':'Run #2, Experiment in_mem_exp (no sample)'}, xlabel='Gate ch1 (V)', ylabel='Gate v1 (V)'>],\n",
       " [None])"
      ]
     },
     "execution_count": 14,
     "metadata": {},
     "output_type": "execute_result"
    },
    {
     "data": {
      "image/png": "[encoded data removed]",
      "text/plain": [
       "<Figure size 432x288 with 1 Axes>"
      ]
     },
     "metadata": {
      "needs_background": "light"
     },
     "output_type": "display_data"
    }
   ],
   "source": [
    "plot_dataset(ds)"
   ]
  },
  {
   "cell_type": "markdown",
   "metadata": {},
   "source": [
    "When a dataset is loaded using ``load_by_run_spec`` and related functions QCoDeS will first check if the data is available in the database. If not if will check if the data has been exported to ``netcdf`` and then try to load the data from the last known export location. If this fails a warning will be raised and the dataset will be loaded without any raw data."
   ]
  },
  {
   "cell_type": "markdown",
   "metadata": {},
   "source": [
    "A dataset can also be loaded directly from the netcdf file. See [Exporting QCoDes Datasets](./Exporting-data-to-other-file-formats.ipynb) for more information on how this is done. Including information about how you can change the ``netcdf`` location."
   ]
  },
  {
   "cell_type": "code",
   "execution_count": null,
   "metadata": {},
   "outputs": [],
   "source": []
  }
 ],
 "metadata": {
  "kernelspec": {
   "display_name": "Python 3 (ipykernel)",
   "language": "python",
   "name": "python3"
  },
  "language_info": {
   "codemirror_mode": {
    "name": "ipython",
    "version": 3
   },
   "file_extension": ".py",
   "mimetype": "text/x-python",
   "name": "python",
   "nbconvert_exporter": "python",
   "pygments_lexer": "ipython3",
   "version": "3.9.13"
  },
  "nbsphinx": {
   "timeout": 60
  },
  "toc": {
   "base_numbering": 1,
   "nav_menu": {},
   "number_sections": true,
   "sideBar": true,
   "skip_h1_title": false,
   "title_cell": "Table of Contents",
   "title_sidebar": "Contents",
   "toc_cell": false,
   "toc_position": {},
   "toc_section_display": true,
   "toc_window_display": false
  },
  "varInspector": {
   "cols": {
    "lenName": 16,
    "lenType": 16,
    "lenVar": 40
   },
   "kernels_config": {
    "python": {
     "delete_cmd_postfix": "",
     "delete_cmd_prefix": "del ",
     "library": "var_list.py",
     "varRefreshCmd": "print(var_dic_list())"
    },
    "r": {
     "delete_cmd_postfix": ") ",
     "delete_cmd_prefix": "rm(",
     "library": "var_list.r",
     "varRefreshCmd": "cat(var_dic_list()) "
    }
   },
   "types_to_exclude": [
    "module",
    "function",
    "builtin_function_or_method",
    "instance",
    "_Feature"
   ],
   "window_display": false
  }
 },
 "nbformat": 4,
 "nbformat_minor": 4
}
