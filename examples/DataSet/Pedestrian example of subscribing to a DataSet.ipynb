{
 "cells": [
  {
   "cell_type": "markdown",
   "metadata": {},
   "source": [
    "# Pedestrian example of subscribing to a DataSet\n",
    "\n",
    "It is possible to *subscribe* to a dataset. Subscribing means adding a function to the dataset and having the dataset call that function every time a result is added to the dataset (or more rarely, see below).\n",
    "\n",
    "### Call signature\n",
    "\n",
    "The subscribing function must have the following call signature:\n",
    "```\n",
    "fun(results: List[Tuple[Value]], length: int,\n",
    "    state: Union[MutableSequence, MutableMapping]) -> None:\n",
    "    \"\"\"\n",
    "    Args:\n",
    "        results: A list of tuples where each tuple holds the results inserted into the dataset.\n",
    "            For two scalar parameters, X and Y, results might look like [(x1, y1), (x2, y2), ...]\n",
    "        length: The current length of the dataset.\n",
    "        state: Any mutable sequence/mapping that can be used to hold information from call to call.\n",
    "            In practice a list or a dict.\n",
    "    \"\"\"\n",
    "```\n",
    "Below we provide an example function that counts the number of times a voltage has exceeded a certain limit.\n",
    "\n",
    "### Frequency\n",
    "\n",
    "Since calling the function **every** time an insertion is made may be too frequent, a `min_wait` and a `min_count` argument may be provided when subscribing. The dataset will then only call the function upon inserting a result\n",
    "if `min_wait` seconds have elapsed since the last call (or the start of the subscription, in the time before the first call) and `min_count` results have been added to the dataset since the last call (or the start of the subscription). All the results added in the meantime are queued and passed to the function in one go.\n",
    "\n",
    "### Order\n",
    "\n",
    "The subscription must be set up **after** all parameters have been added to the dataset."
   ]
  },
  {
   "cell_type": "code",
   "execution_count": 1,
   "metadata": {
    "execution": {
     "iopub.execute_input": "2022-06-09T12:02:32.381850Z",
     "iopub.status.busy": "2022-06-09T12:02:32.381511Z",
     "iopub.status.idle": "2022-06-09T12:02:32.814918Z",
     "shell.execute_reply": "2022-06-09T12:02:32.814056Z"
    }
   },
   "outputs": [],
   "source": [
    "from qcodes import initialise_database, load_or_create_experiment, \\\n",
    "    new_data_set, ParamSpec\n",
    "import numpy as np\n",
    "from time import sleep"
   ]
  },
  {
   "cell_type": "markdown",
   "metadata": {},
   "source": [
    "## Example 1: A notification\n",
    "\n",
    "We imagine scanning a frequency and reading out a noisy voltage. When the voltage has exceeded a threshold 5 times, we want to receive a warning. Let us initialise our database and create an experiment."
   ]
  },
  {
   "cell_type": "code",
   "execution_count": 2,
   "metadata": {
    "execution": {
     "iopub.execute_input": "2022-06-09T12:02:32.819478Z",
     "iopub.status.busy": "2022-06-09T12:02:32.819110Z",
     "iopub.status.idle": "2022-06-09T12:02:32.827233Z",
     "shell.execute_reply": "2022-06-09T12:02:32.826374Z"
    }
   },
   "outputs": [],
   "source": [
    "initialise_database()\n",
    "exp = load_or_create_experiment(experiment_name=\"subscription_tutorial\", sample_name=\"no_sample\")"
   ]
  },
  {
   "cell_type": "code",
   "execution_count": 3,
   "metadata": {
    "execution": {
     "iopub.execute_input": "2022-06-09T12:02:32.830594Z",
     "iopub.status.busy": "2022-06-09T12:02:32.830189Z",
     "iopub.status.idle": "2022-06-09T12:02:32.843460Z",
     "shell.execute_reply": "2022-06-09T12:02:32.842718Z"
    }
   },
   "outputs": [],
   "source": [
    "dataSet = new_data_set(\"test\",\n",
    "                       exp_id=exp.exp_id,\n",
    "                       specs=[ParamSpec(\"x\", \"numeric\", unit='Hz'),\n",
    "                              ParamSpec(\"y\", \"numeric\", unit='V')])\n",
    "dataSet.mark_started()"
   ]
  },
  {
   "cell_type": "code",
   "execution_count": 4,
   "metadata": {
    "execution": {
     "iopub.execute_input": "2022-06-09T12:02:32.846923Z",
     "iopub.status.busy": "2022-06-09T12:02:32.846532Z",
     "iopub.status.idle": "2022-06-09T12:02:32.851669Z",
     "shell.execute_reply": "2022-06-09T12:02:32.850870Z"
    }
   },
   "outputs": [],
   "source": [
    "def threshold_notifier(results, length, state):\n",
    "    if len(state) > 4:\n",
    "        print(f'At step {length}: The voltage exceeded the limit 5 times! ')\n",
    "        state.clear()\n",
    "    for result in results:\n",
    "        if result[1] > 0.8:\n",
    "            state.append(result[1])"
   ]
  },
  {
   "cell_type": "code",
   "execution_count": 5,
   "metadata": {
    "execution": {
     "iopub.execute_input": "2022-06-09T12:02:32.855294Z",
     "iopub.status.busy": "2022-06-09T12:02:32.855042Z",
     "iopub.status.idle": "2022-06-09T12:02:32.860896Z",
     "shell.execute_reply": "2022-06-09T12:02:32.860009Z"
    }
   },
   "outputs": [],
   "source": [
    "# now perform the subscription\n",
    "# since this is important safety info, we want our callback function called\n",
    "# on EVERY insertion\n",
    "sub_id = dataSet.subscribe(threshold_notifier, min_wait=0, min_count=1, state=[])"
   ]
  },
  {
   "cell_type": "code",
   "execution_count": 6,
   "metadata": {
    "execution": {
     "iopub.execute_input": "2022-06-09T12:02:32.864350Z",
     "iopub.status.busy": "2022-06-09T12:02:32.864096Z",
     "iopub.status.idle": "2022-06-09T12:02:33.053288Z",
     "shell.execute_reply": "2022-06-09T12:02:33.052262Z"
    },
    "scrolled": false
   },
   "outputs": [
    {
     "name": "stdout",
     "output_type": "stream",
     "text": [
      "At step 38: The voltage exceeded the limit 5 times! \n",
      "At step 55: The voltage exceeded the limit 5 times! \n",
      "At step 74: The voltage exceeded the limit 5 times! \n",
      "At step 87: The voltage exceeded the limit 5 times! \n",
      "At step 103: The voltage exceeded the limit 5 times! \n",
      "At step 127: The voltage exceeded the limit 5 times! \n"
     ]
    }
   ],
   "source": [
    "for x in np.linspace(100, 200, 150):\n",
    "    y = np.random.randn()\n",
    "    dataSet.add_results([{\"x\": x, \"y\": y}])"
   ]
  },
  {
   "cell_type": "code",
   "execution_count": 7,
   "metadata": {
    "execution": {
     "iopub.execute_input": "2022-06-09T12:02:33.058339Z",
     "iopub.status.busy": "2022-06-09T12:02:33.058062Z",
     "iopub.status.idle": "2022-06-09T12:02:33.065596Z",
     "shell.execute_reply": "2022-06-09T12:02:33.064764Z"
    }
   },
   "outputs": [],
   "source": [
    "dataSet.unsubscribe_all()"
   ]
  },
  {
   "cell_type": "markdown",
   "metadata": {
    "collapsed": true
   },
   "source": [
    "## Example 2: ASCII Plotter\n",
    "\n",
    "While this example does not represent a data acqusition that one may deal with in a real experiment, it is a fun practice of subscribing to a dataset."
   ]
  },
  {
   "cell_type": "code",
   "execution_count": 8,
   "metadata": {
    "execution": {
     "iopub.execute_input": "2022-06-09T12:02:33.069351Z",
     "iopub.status.busy": "2022-06-09T12:02:33.069069Z",
     "iopub.status.idle": "2022-06-09T12:02:33.082606Z",
     "shell.execute_reply": "2022-06-09T12:02:33.081718Z"
    }
   },
   "outputs": [],
   "source": [
    "dataSet = new_data_set(\"test\", exp_id=exp.exp_id,\n",
    "                       specs=[ParamSpec(\"blip\", \"numeric\", unit='bit'),\n",
    "                              ParamSpec(\"blop\", \"numeric\", unit='bit')])\n",
    "dataSet.mark_started()"
   ]
  },
  {
   "cell_type": "code",
   "execution_count": 9,
   "metadata": {
    "execution": {
     "iopub.execute_input": "2022-06-09T12:02:33.086549Z",
     "iopub.status.busy": "2022-06-09T12:02:33.086280Z",
     "iopub.status.idle": "2022-06-09T12:02:33.091989Z",
     "shell.execute_reply": "2022-06-09T12:02:33.091127Z"
    }
   },
   "outputs": [],
   "source": [
    "def ASCII_plotter_5bit(results, length, state):\n",
    "    \"\"\"\n",
    "    Glorious 5-bit signal plotter\n",
    "    \n",
    "    Digitises the range (-1, 1) with 4 bits and plots it\n",
    "    in stdout. Crashes and burns if given data outside that\n",
    "    interval.\n",
    "    \"\"\"\n",
    "    for result in results:\n",
    "        plotline = ['.'] * 32\n",
    "        yvalue = result[1]\n",
    "        yvalue += 1\n",
    "        yvalue /= 2\n",
    "        yvalue = int(yvalue*31)\n",
    "        plotline[yvalue] = 'O'\n",
    "        print(''.join(plotline))\n",
    "        "
   ]
  },
  {
   "cell_type": "code",
   "execution_count": 10,
   "metadata": {
    "execution": {
     "iopub.execute_input": "2022-06-09T12:02:33.095840Z",
     "iopub.status.busy": "2022-06-09T12:02:33.095576Z",
     "iopub.status.idle": "2022-06-09T12:02:33.102279Z",
     "shell.execute_reply": "2022-06-09T12:02:33.101329Z"
    }
   },
   "outputs": [],
   "source": [
    "sub_id = dataSet.subscribe(ASCII_plotter_5bit, min_wait=0, min_count=3, state=[])"
   ]
  },
  {
   "cell_type": "code",
   "execution_count": 11,
   "metadata": {
    "execution": {
     "iopub.execute_input": "2022-06-09T12:02:33.107790Z",
     "iopub.status.busy": "2022-06-09T12:02:33.107508Z",
     "iopub.status.idle": "2022-06-09T12:02:43.312359Z",
     "shell.execute_reply": "2022-06-09T12:02:43.311366Z"
    }
   },
   "outputs": [
    {
     "name": "stdout",
     "output_type": "stream",
     "text": [
      "...............O................\n",
      "...............O................\n",
      ".................O..............\n"
     ]
    },
    {
     "name": "stdout",
     "output_type": "stream",
     "text": [
      ".................O..............\n",
      "....................O...........\n",
      "......................O.........\n"
     ]
    },
    {
     "name": "stdout",
     "output_type": "stream",
     "text": [
      ".......................O........\n",
      "........................O.......\n",
      "........................O.......\n"
     ]
    },
    {
     "name": "stdout",
     "output_type": "stream",
     "text": [
      "..........................O.....\n",
      ".........................O......\n",
      "..........................O.....\n"
     ]
    },
    {
     "name": "stdout",
     "output_type": "stream",
     "text": [
      "............................O...\n",
      "...........................O....\n",
      ".............................O..\n"
     ]
    },
    {
     "name": "stdout",
     "output_type": "stream",
     "text": [
      ".............................O..\n",
      "............................O...\n",
      "..............................O.\n"
     ]
    },
    {
     "name": "stdout",
     "output_type": "stream",
     "text": [
      ".............................O..\n",
      ".............................O..\n",
      "............................O...\n"
     ]
    },
    {
     "name": "stdout",
     "output_type": "stream",
     "text": [
      "............................O...\n",
      "...........................O....\n",
      "............................O...\n"
     ]
    },
    {
     "name": "stdout",
     "output_type": "stream",
     "text": [
      "...........................O....\n",
      "........................O.......\n",
      ".........................O......\n"
     ]
    },
    {
     "name": "stdout",
     "output_type": "stream",
     "text": [
      ".......................O........\n",
      "......................O.........\n",
      "....................O...........\n"
     ]
    },
    {
     "name": "stdout",
     "output_type": "stream",
     "text": [
      "...................O............\n",
      ".................O..............\n",
      "................O...............\n"
     ]
    },
    {
     "name": "stdout",
     "output_type": "stream",
     "text": [
      "..............O.................\n",
      "..............O.................\n",
      "............O...................\n"
     ]
    },
    {
     "name": "stdout",
     "output_type": "stream",
     "text": [
      "............O...................\n",
      "..........O.....................\n",
      ".........O......................\n"
     ]
    },
    {
     "name": "stdout",
     "output_type": "stream",
     "text": [
      ".......O........................\n",
      "......O.........................\n",
      ".......O........................\n"
     ]
    },
    {
     "name": "stdout",
     "output_type": "stream",
     "text": [
      ".....O..........................\n",
      "...O............................\n",
      "..O.............................\n"
     ]
    },
    {
     "name": "stdout",
     "output_type": "stream",
     "text": [
      "..O.............................\n",
      "..O.............................\n",
      "..O.............................\n"
     ]
    },
    {
     "name": "stdout",
     "output_type": "stream",
     "text": [
      ".O..............................\n",
      ".O..............................\n",
      "..O.............................\n"
     ]
    },
    {
     "name": "stdout",
     "output_type": "stream",
     "text": [
      "O...............................\n",
      ".O..............................\n",
      ".O..............................\n"
     ]
    },
    {
     "name": "stdout",
     "output_type": "stream",
     "text": [
      "...O............................\n",
      "....O...........................\n",
      "....O...........................\n"
     ]
    },
    {
     "name": "stdout",
     "output_type": "stream",
     "text": [
      "....O...........................\n",
      "......O.........................\n",
      ".......O........................\n"
     ]
    },
    {
     "name": "stdout",
     "output_type": "stream",
     "text": [
      "........O.......................\n",
      ".........O......................\n",
      ".........O......................\n"
     ]
    },
    {
     "name": "stdout",
     "output_type": "stream",
     "text": [
      ".........O......................\n",
      "............O...................\n",
      ".............O..................\n"
     ]
    },
    {
     "name": "stdout",
     "output_type": "stream",
     "text": [
      "...............O................\n",
      ".................O..............\n",
      "..................O.............\n"
     ]
    },
    {
     "name": "stdout",
     "output_type": "stream",
     "text": [
      "...................O............\n",
      "...................O............\n",
      ".......................O........\n"
     ]
    },
    {
     "name": "stdout",
     "output_type": "stream",
     "text": [
      "......................O.........\n",
      "........................O.......\n",
      ".......................O........\n"
     ]
    },
    {
     "name": "stdout",
     "output_type": "stream",
     "text": [
      "..........................O.....\n",
      "...........................O....\n",
      "............................O...\n"
     ]
    },
    {
     "name": "stdout",
     "output_type": "stream",
     "text": [
      "...........................O....\n",
      "............................O...\n",
      "..............................O.\n"
     ]
    },
    {
     "name": "stdout",
     "output_type": "stream",
     "text": [
      ".............................O..\n",
      "............................O...\n",
      ".............................O..\n"
     ]
    },
    {
     "name": "stdout",
     "output_type": "stream",
     "text": [
      ".............................O..\n",
      "............................O...\n",
      "..............................O.\n"
     ]
    },
    {
     "name": "stdout",
     "output_type": "stream",
     "text": [
      "...........................O....\n",
      "...........................O....\n",
      "..........................O.....\n"
     ]
    },
    {
     "name": "stdout",
     "output_type": "stream",
     "text": [
      "..........................O.....\n",
      "........................O.......\n",
      "......................O.........\n"
     ]
    },
    {
     "name": "stdout",
     "output_type": "stream",
     "text": [
      ".......................O........\n",
      ".....................O..........\n",
      ".....................O..........\n"
     ]
    },
    {
     "name": "stdout",
     "output_type": "stream",
     "text": [
      "..................O.............\n",
      ".................O..............\n",
      "...............O................\n"
     ]
    }
   ],
   "source": [
    "for x in np.linspace(0, 3*np.pi, 100):\n",
    "    yvalue = 0.9*np.sin(x) + np.random.randn()*0.05\n",
    "    dataSet.add_results([{\"blip\": x, \"blop\": yvalue}])\n",
    "    sleep(0.1)"
   ]
  },
  {
   "cell_type": "code",
   "execution_count": null,
   "metadata": {},
   "outputs": [],
   "source": []
  }
 ],
 "metadata": {
  "kernelspec": {
   "display_name": "Python 3",
   "language": "python",
   "name": "python3"
  },
  "language_info": {
   "codemirror_mode": {
    "name": "ipython",
    "version": 3
   },
   "file_extension": ".py",
   "mimetype": "text/x-python",
   "name": "python",
   "nbconvert_exporter": "python",
   "pygments_lexer": "ipython3",
   "version": "3.9.13"
  }
 },
 "nbformat": 4,
 "nbformat_minor": 2
}
