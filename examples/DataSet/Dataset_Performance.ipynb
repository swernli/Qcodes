{
 "cells": [
  {
   "cell_type": "markdown",
   "metadata": {},
   "source": [
    "# DataSet Performance\n",
    "\n",
    "This notebook shows the trade-off between inserting data into a database row-by-row and as binary blobs. Inserting the data row-by-row means that we have direct access to all the data and may perform queries directly on the values of the data. On the other hand, as we shall see, this is much slower than inserting the data directly as binary blobs."
   ]
  },
  {
   "cell_type": "markdown",
   "metadata": {},
   "source": [
    "First, we choose a new location for the database to ensure that we don't add a bunch of benchmarking data to the default one."
   ]
  },
  {
   "cell_type": "code",
   "execution_count": 1,
   "metadata": {
    "execution": {
     "iopub.execute_input": "2022-06-09T12:00:07.577169Z",
     "iopub.status.busy": "2022-06-09T12:00:07.576864Z",
     "iopub.status.idle": "2022-06-09T12:00:08.000651Z",
     "shell.execute_reply": "2022-06-09T12:00:07.999492Z"
    }
   },
   "outputs": [],
   "source": [
    "import os\n",
    "cwd = os.getcwd()\n",
    "import qcodes as qc\n",
    "qc.config[\"core\"][\"db_location\"] = os.path.join(cwd, 'testing.db')\n"
   ]
  },
  {
   "cell_type": "code",
   "execution_count": 2,
   "metadata": {
    "execution": {
     "iopub.execute_input": "2022-06-09T12:00:08.004838Z",
     "iopub.status.busy": "2022-06-09T12:00:08.004472Z",
     "iopub.status.idle": "2022-06-09T12:00:08.725688Z",
     "shell.execute_reply": "2022-06-09T12:00:08.724765Z"
    }
   },
   "outputs": [],
   "source": [
    "%matplotlib inline\n",
    "import time\n",
    "import matplotlib.pyplot as plt\n",
    "import numpy as np\n",
    "\n",
    "import qcodes as qc\n",
    "from qcodes.instrument.parameter import ManualParameter\n",
    "from qcodes.dataset.experiment_container import (Experiment,\n",
    "                                                 load_last_experiment,\n",
    "                                                 new_experiment)\n",
    "from qcodes.dataset.sqlite.database import initialise_database\n",
    "from qcodes import load_or_create_experiment\n",
    "from qcodes.dataset.measurements import Measurement"
   ]
  },
  {
   "cell_type": "code",
   "execution_count": 3,
   "metadata": {
    "execution": {
     "iopub.execute_input": "2022-06-09T12:00:08.730478Z",
     "iopub.status.busy": "2022-06-09T12:00:08.730078Z",
     "iopub.status.idle": "2022-06-09T12:00:08.838689Z",
     "shell.execute_reply": "2022-06-09T12:00:08.837828Z"
    }
   },
   "outputs": [
    {
     "name": "stdout",
     "output_type": "stream",
     "text": [
      "\r",
      "0it [00:00, ?it/s]"
     ]
    },
    {
     "name": "stdout",
     "output_type": "stream",
     "text": [
      "\r",
      "Upgrading database; v0 -> v1: : 0it [00:00, ?it/s]"
     ]
    },
    {
     "name": "stdout",
     "output_type": "stream",
     "text": [
      "\r",
      "Upgrading database; v0 -> v1: : 0it [00:00, ?it/s]"
     ]
    },
    {
     "name": "stdout",
     "output_type": "stream",
     "text": [
      "\n"
     ]
    },
    {
     "name": "stdout",
     "output_type": "stream",
     "text": [
      "\r",
      "  0%|          | 0/1 [00:00<?, ?it/s]"
     ]
    },
    {
     "name": "stdout",
     "output_type": "stream",
     "text": [
      "\r",
      "Upgrading database; v1 -> v2:   0%|          | 0/1 [00:00<?, ?it/s]"
     ]
    },
    {
     "name": "stdout",
     "output_type": "stream",
     "text": [
      "\r",
      "Upgrading database; v1 -> v2: 100%|██████████| 1/1 [00:00<00:00, 437.13it/s]"
     ]
    },
    {
     "name": "stdout",
     "output_type": "stream",
     "text": [
      "\n"
     ]
    },
    {
     "name": "stdout",
     "output_type": "stream",
     "text": [
      "\r",
      "0it [00:00, ?it/s]"
     ]
    },
    {
     "name": "stdout",
     "output_type": "stream",
     "text": [
      "\r",
      "Upgrading database; v2 -> v3: : 0it [00:00, ?it/s]"
     ]
    },
    {
     "name": "stdout",
     "output_type": "stream",
     "text": [
      "\r",
      "Upgrading database; v2 -> v3: : 0it [00:00, ?it/s]"
     ]
    },
    {
     "name": "stdout",
     "output_type": "stream",
     "text": [
      "\n"
     ]
    },
    {
     "name": "stdout",
     "output_type": "stream",
     "text": [
      "\r",
      "0it [00:00, ?it/s]"
     ]
    },
    {
     "name": "stdout",
     "output_type": "stream",
     "text": [
      "\r",
      "Upgrading database; v3 -> v4: : 0it [00:00, ?it/s]"
     ]
    },
    {
     "name": "stdout",
     "output_type": "stream",
     "text": [
      "\r",
      "Upgrading database; v3 -> v4: : 0it [00:00, ?it/s]"
     ]
    },
    {
     "name": "stdout",
     "output_type": "stream",
     "text": [
      "\n"
     ]
    },
    {
     "name": "stdout",
     "output_type": "stream",
     "text": [
      "\r",
      "  0%|          | 0/1 [00:00<?, ?it/s]"
     ]
    },
    {
     "name": "stdout",
     "output_type": "stream",
     "text": [
      "\r",
      "Upgrading database; v4 -> v5:   0%|          | 0/1 [00:00<?, ?it/s]"
     ]
    },
    {
     "name": "stdout",
     "output_type": "stream",
     "text": [
      "\r",
      "Upgrading database; v4 -> v5: 100%|██████████| 1/1 [00:00<00:00, 435.36it/s]"
     ]
    },
    {
     "name": "stdout",
     "output_type": "stream",
     "text": [
      "\n"
     ]
    },
    {
     "name": "stdout",
     "output_type": "stream",
     "text": [
      "\r",
      "0it [00:00, ?it/s]"
     ]
    },
    {
     "name": "stdout",
     "output_type": "stream",
     "text": [
      "\r",
      "Upgrading database; v5 -> v6: : 0it [00:00, ?it/s]"
     ]
    },
    {
     "name": "stdout",
     "output_type": "stream",
     "text": [
      "\r",
      "Upgrading database; v5 -> v6: : 0it [00:00, ?it/s]"
     ]
    },
    {
     "name": "stdout",
     "output_type": "stream",
     "text": [
      "\n"
     ]
    },
    {
     "name": "stdout",
     "output_type": "stream",
     "text": [
      "\r",
      "  0%|          | 0/1 [00:00<?, ?it/s]"
     ]
    },
    {
     "name": "stdout",
     "output_type": "stream",
     "text": [
      "\r",
      "Upgrading database; v6 -> v7:   0%|          | 0/1 [00:00<?, ?it/s]"
     ]
    },
    {
     "name": "stdout",
     "output_type": "stream",
     "text": [
      "\r",
      "Upgrading database; v6 -> v7: 100%|██████████| 1/1 [00:00<00:00, 189.02it/s]"
     ]
    },
    {
     "name": "stdout",
     "output_type": "stream",
     "text": [
      "\n"
     ]
    },
    {
     "name": "stdout",
     "output_type": "stream",
     "text": [
      "\r",
      "  0%|          | 0/1 [00:00<?, ?it/s]"
     ]
    },
    {
     "name": "stdout",
     "output_type": "stream",
     "text": [
      "\r",
      "Upgrading database; v7 -> v8:   0%|          | 0/1 [00:00<?, ?it/s]"
     ]
    },
    {
     "name": "stdout",
     "output_type": "stream",
     "text": [
      "\r",
      "Upgrading database; v7 -> v8: 100%|██████████| 1/1 [00:00<00:00, 618.99it/s]"
     ]
    },
    {
     "name": "stdout",
     "output_type": "stream",
     "text": [
      "\n"
     ]
    },
    {
     "name": "stdout",
     "output_type": "stream",
     "text": [
      "\r",
      "  0%|          | 0/1 [00:00<?, ?it/s]"
     ]
    },
    {
     "name": "stdout",
     "output_type": "stream",
     "text": [
      "\r",
      "Upgrading database; v8 -> v9:   0%|          | 0/1 [00:00<?, ?it/s]"
     ]
    },
    {
     "name": "stdout",
     "output_type": "stream",
     "text": [
      "\r",
      "Upgrading database; v8 -> v9: 100%|██████████| 1/1 [00:00<00:00, 659.07it/s]"
     ]
    },
    {
     "name": "stdout",
     "output_type": "stream",
     "text": [
      "\n"
     ]
    }
   ],
   "source": [
    "initialise_database()\n",
    "exp = load_or_create_experiment(experiment_name='tutorial_exp', sample_name=\"no sample\")"
   ]
  },
  {
   "cell_type": "markdown",
   "metadata": {},
   "source": [
    "Here, we define a simple function to benchmark the time it takes to insert n points with either numeric or array data type.\n",
    "We will compare both the time used to call ``add_result`` and the time used for the full measurement."
   ]
  },
  {
   "cell_type": "code",
   "execution_count": 4,
   "metadata": {
    "execution": {
     "iopub.execute_input": "2022-06-09T12:00:08.843070Z",
     "iopub.status.busy": "2022-06-09T12:00:08.842801Z",
     "iopub.status.idle": "2022-06-09T12:00:08.851511Z",
     "shell.execute_reply": "2022-06-09T12:00:08.850411Z"
    }
   },
   "outputs": [],
   "source": [
    "def insert_data(paramtype, npoints, nreps=1):\n",
    "\n",
    "    meas = Measurement(exp=exp)\n",
    "\n",
    "    x1 = ManualParameter('x1')\n",
    "    x2 = ManualParameter('x2')\n",
    "    x3 = ManualParameter('x3')\n",
    "    y1 = ManualParameter('y1')\n",
    "    y2 = ManualParameter('y2')\n",
    "\n",
    "    meas.register_parameter(x1, paramtype=paramtype)\n",
    "    meas.register_parameter(x2, paramtype=paramtype)\n",
    "    meas.register_parameter(x3, paramtype=paramtype)\n",
    "    meas.register_parameter(y1, setpoints=[x1, x2, x3],\n",
    "                            paramtype=paramtype)\n",
    "    meas.register_parameter(y2, setpoints=[x1, x2, x3],\n",
    "                            paramtype=paramtype)\n",
    "    start = time.perf_counter()\n",
    "    with meas.run() as datasaver:\n",
    "        start_adding = time.perf_counter()\n",
    "        for i in range(nreps):\n",
    "            datasaver.add_result((x1, np.random.rand(npoints)),\n",
    "                                 (x2, np.random.rand(npoints)),\n",
    "                                 (x3, np.random.rand(npoints)),\n",
    "                                 (y1, np.random.rand(npoints)),\n",
    "                                 (y2, np.random.rand(npoints)))\n",
    "        stop_adding = time.perf_counter()\n",
    "        run_id = datasaver.run_id\n",
    "    stop = time.perf_counter()\n",
    "    tot_time = stop - start\n",
    "    add_time = stop_adding - start_adding\n",
    "    return tot_time, add_time, run_id"
   ]
  },
  {
   "cell_type": "markdown",
   "metadata": {},
   "source": [
    "## Comparison between numeric/array data and binary blob"
   ]
  },
  {
   "cell_type": "markdown",
   "metadata": {},
   "source": [
    "### Case1: Short experiment time"
   ]
  },
  {
   "cell_type": "code",
   "execution_count": 5,
   "metadata": {
    "execution": {
     "iopub.execute_input": "2022-06-09T12:00:08.855248Z",
     "iopub.status.busy": "2022-06-09T12:00:08.854987Z",
     "iopub.status.idle": "2022-06-09T12:00:09.641298Z",
     "shell.execute_reply": "2022-06-09T12:00:09.640389Z"
    }
   },
   "outputs": [
    {
     "name": "stdout",
     "output_type": "stream",
     "text": [
      "Starting experimental run with id: 1. \n",
      "Starting experimental run with id: 2. \n",
      "Starting experimental run with id: 3. \n"
     ]
    },
    {
     "name": "stdout",
     "output_type": "stream",
     "text": [
      "Starting experimental run with id: 4. \n"
     ]
    },
    {
     "name": "stdout",
     "output_type": "stream",
     "text": [
      "Starting experimental run with id: 5. \n"
     ]
    },
    {
     "name": "stdout",
     "output_type": "stream",
     "text": [
      "Starting experimental run with id: 6. \n"
     ]
    },
    {
     "name": "stdout",
     "output_type": "stream",
     "text": [
      "Starting experimental run with id: 7. \n"
     ]
    },
    {
     "name": "stdout",
     "output_type": "stream",
     "text": [
      "Starting experimental run with id: 8. \n",
      "Starting experimental run with id: 9. \n"
     ]
    },
    {
     "name": "stdout",
     "output_type": "stream",
     "text": [
      "Starting experimental run with id: 10. \n",
      "Starting experimental run with id: 11. \n"
     ]
    },
    {
     "name": "stdout",
     "output_type": "stream",
     "text": [
      "Starting experimental run with id: 12. \n",
      "Starting experimental run with id: 13. \n"
     ]
    },
    {
     "name": "stdout",
     "output_type": "stream",
     "text": [
      "Starting experimental run with id: 14. \n"
     ]
    }
   ],
   "source": [
    "sizes = [1,500,1000,2000,3000,4000,5000]\n",
    "t_numeric = []\n",
    "t_numeric_add = []\n",
    "t_array = []\n",
    "t_array_add = []\n",
    "for size in sizes:\n",
    "    tn, tna, run_id_n =  insert_data('numeric', size)\n",
    "    t_numeric.append(tn)\n",
    "    t_numeric_add.append(tna)\n",
    "\n",
    "    ta, taa, run_id_a =  insert_data('array', size)\n",
    "    t_array.append(ta)\n",
    "    t_array_add.append(taa)"
   ]
  },
  {
   "cell_type": "code",
   "execution_count": 6,
   "metadata": {
    "execution": {
     "iopub.execute_input": "2022-06-09T12:00:09.645137Z",
     "iopub.status.busy": "2022-06-09T12:00:09.644867Z",
     "iopub.status.idle": "2022-06-09T12:00:09.870191Z",
     "shell.execute_reply": "2022-06-09T12:00:09.869358Z"
    }
   },
   "outputs": [
    {
     "data": {
      "image/png": "[encoded data removed]",
      "text/plain": [
       "<Figure size 432x288 with 1 Axes>"
      ]
     },
     "metadata": {
      "needs_background": "light"
     },
     "output_type": "display_data"
    }
   ],
   "source": [
    "fig, ax = plt.subplots(1,1)\n",
    "ax.plot(sizes, t_numeric, 'o-', label='Inserting row-by-row')\n",
    "ax.plot(sizes, t_numeric_add, 'o-', label='Inserting row-by-row: add_result only')\n",
    "ax.plot(sizes, t_array, 'd-', label='Inserting as binary blob')\n",
    "ax.plot(sizes, t_array_add, 'd-', label='Inserting as binary blob: add_result only')\n",
    "ax.legend()\n",
    "ax.set_xlabel('Array length')\n",
    "ax.set_ylabel('Time (s)')\n",
    "fig.tight_layout()"
   ]
  },
  {
   "cell_type": "markdown",
   "metadata": {},
   "source": [
    "As shown in the latter figure, the time to setup and and close the experiment is approximately 0.4 sec. In case of small array sizes, the difference between inserting values of data as arrays and inserting them row-by-row is relatively unimportant. At larger array sizes, i.e. above 10000 points, the cost of writing data as individual datapoints starts to become important.\n"
   ]
  },
  {
   "cell_type": "markdown",
   "metadata": {},
   "source": [
    "### Case2: Long experiment time "
   ]
  },
  {
   "cell_type": "code",
   "execution_count": 7,
   "metadata": {
    "execution": {
     "iopub.execute_input": "2022-06-09T12:00:09.874750Z",
     "iopub.status.busy": "2022-06-09T12:00:09.874236Z",
     "iopub.status.idle": "2022-06-09T12:00:59.770228Z",
     "shell.execute_reply": "2022-06-09T12:00:59.769266Z"
    }
   },
   "outputs": [
    {
     "name": "stdout",
     "output_type": "stream",
     "text": [
      "Starting experimental run with id: 15. \n",
      "Starting experimental run with id: 16. \n",
      "Starting experimental run with id: 17. \n"
     ]
    },
    {
     "name": "stdout",
     "output_type": "stream",
     "text": [
      "Starting experimental run with id: 18. \n",
      "Starting experimental run with id: 19. \n"
     ]
    },
    {
     "name": "stdout",
     "output_type": "stream",
     "text": [
      "Starting experimental run with id: 20. \n",
      "Starting experimental run with id: 21. \n"
     ]
    },
    {
     "name": "stdout",
     "output_type": "stream",
     "text": [
      "Starting experimental run with id: 22. \n"
     ]
    },
    {
     "name": "stdout",
     "output_type": "stream",
     "text": [
      "Starting experimental run with id: 23. \n"
     ]
    },
    {
     "name": "stdout",
     "output_type": "stream",
     "text": [
      "Starting experimental run with id: 24. \n"
     ]
    },
    {
     "name": "stdout",
     "output_type": "stream",
     "text": [
      "Starting experimental run with id: 25. \n"
     ]
    },
    {
     "name": "stdout",
     "output_type": "stream",
     "text": [
      "Starting experimental run with id: 26. \n"
     ]
    },
    {
     "name": "stdout",
     "output_type": "stream",
     "text": [
      "Starting experimental run with id: 27. \n"
     ]
    },
    {
     "name": "stdout",
     "output_type": "stream",
     "text": [
      "Starting experimental run with id: 28. \n"
     ]
    }
   ],
   "source": [
    "sizes = [1,500,1000,2000,3000,4000,5000]\n",
    "nreps = 100\n",
    "t_numeric = []\n",
    "t_numeric_add = []\n",
    "t_numeric_run_ids = []\n",
    "t_array = []\n",
    "t_array_add = []\n",
    "t_array_run_ids = []\n",
    "for size in sizes:\n",
    "    tn, tna, run_id_n =  insert_data('numeric', size, nreps=nreps)\n",
    "    t_numeric.append(tn)\n",
    "    t_numeric_add.append(tna)\n",
    "    t_numeric_run_ids.append(run_id_n)\n",
    "\n",
    "    ta, taa, run_id_a =  insert_data('array', size, nreps=nreps)\n",
    "    t_array.append(ta)\n",
    "    t_array_add.append(taa)\n",
    "    t_array_run_ids.append(run_id_a)"
   ]
  },
  {
   "cell_type": "code",
   "execution_count": 8,
   "metadata": {
    "execution": {
     "iopub.execute_input": "2022-06-09T12:00:59.774390Z",
     "iopub.status.busy": "2022-06-09T12:00:59.774097Z",
     "iopub.status.idle": "2022-06-09T12:00:59.978314Z",
     "shell.execute_reply": "2022-06-09T12:00:59.977343Z"
    },
    "scrolled": true
   },
   "outputs": [
    {
     "data": {
      "image/png": "[encoded data removed]",
      "text/plain": [
       "<Figure size 432x288 with 1 Axes>"
      ]
     },
     "metadata": {
      "needs_background": "light"
     },
     "output_type": "display_data"
    }
   ],
   "source": [
    "fig, ax = plt.subplots(1,1)\n",
    "ax.plot(sizes, t_numeric, 'o-', label='Inserting row-by-row')\n",
    "ax.plot(sizes, t_numeric_add, 'o-', label='Inserting row-by-row: add_result only')\n",
    "ax.plot(sizes, t_array, 'd-', label='Inserting as binary blob')\n",
    "ax.plot(sizes, t_array_add, 'd-', label='Inserting as binary blob: add_result only')\n",
    "ax.legend()\n",
    "ax.set_xlabel('Array length')\n",
    "ax.set_ylabel('Time (s)')\n",
    "fig.tight_layout()"
   ]
  },
  {
   "cell_type": "markdown",
   "metadata": {},
   "source": [
    "However, as we increase the length of the experiment, as seen here by repeating the insertion 100 times, we see a big difference between inserting values of the data row-by-row and inserting it as a binary blob."
   ]
  },
  {
   "cell_type": "markdown",
   "metadata": {},
   "source": [
    "## Loading the data "
   ]
  },
  {
   "cell_type": "code",
   "execution_count": 9,
   "metadata": {
    "execution": {
     "iopub.execute_input": "2022-06-09T12:00:59.983142Z",
     "iopub.status.busy": "2022-06-09T12:00:59.982227Z",
     "iopub.status.idle": "2022-06-09T12:00:59.988309Z",
     "shell.execute_reply": "2022-06-09T12:00:59.987511Z"
    }
   },
   "outputs": [],
   "source": [
    "from qcodes.dataset.data_set import load_by_id"
   ]
  },
  {
   "cell_type": "markdown",
   "metadata": {},
   "source": [
    "As usual you can load the data by using the ``load_by_id`` function but you will notice that the different storage methods\n",
    "are reflected in shape of the data as it is retrieved. "
   ]
  },
  {
   "cell_type": "code",
   "execution_count": 10,
   "metadata": {
    "execution": {
     "iopub.execute_input": "2022-06-09T12:00:59.992537Z",
     "iopub.status.busy": "2022-06-09T12:00:59.992111Z",
     "iopub.status.idle": "2022-06-09T12:00:59.997706Z",
     "shell.execute_reply": "2022-06-09T12:00:59.996755Z"
    }
   },
   "outputs": [],
   "source": [
    "run_id_n = t_numeric_run_ids[0]\n",
    "run_id_a = t_array_run_ids[0]"
   ]
  },
  {
   "cell_type": "code",
   "execution_count": 11,
   "metadata": {
    "execution": {
     "iopub.execute_input": "2022-06-09T12:01:00.001486Z",
     "iopub.status.busy": "2022-06-09T12:01:00.001220Z",
     "iopub.status.idle": "2022-06-09T12:01:00.011981Z",
     "shell.execute_reply": "2022-06-09T12:01:00.011187Z"
    },
    "scrolled": true
   },
   "outputs": [
    {
     "data": {
      "text/plain": [
       "{'x1': {'x1': array([0.84170428, 0.84170428, 0.57251207, 0.57251207, 0.47493722,\n",
       "         0.47493722, 0.92243992, 0.92243992, 0.06543345, 0.06543345,\n",
       "         0.23398265, 0.23398265, 0.8732579 , 0.8732579 , 0.56533519,\n",
       "         0.56533519, 0.25600747, 0.25600747, 0.53652892, 0.53652892,\n",
       "         0.23490597, 0.23490597, 0.04113018, 0.04113018, 0.80266263,\n",
       "         0.80266263, 0.71318261, 0.71318261, 0.06478753, 0.06478753,\n",
       "         0.49321882, 0.49321882, 0.20546118, 0.20546118, 0.8717755 ,\n",
       "         0.8717755 , 0.8333825 , 0.8333825 , 0.5224982 , 0.5224982 ,\n",
       "         0.69103564, 0.69103564, 0.12607991, 0.12607991, 0.00303097,\n",
       "         0.00303097, 0.09549454, 0.09549454, 0.74229898, 0.74229898,\n",
       "         0.0772429 , 0.0772429 , 0.76088914, 0.76088914, 0.07190192,\n",
       "         0.07190192, 0.08295943, 0.08295943, 0.98296743, 0.98296743,\n",
       "         0.46916606, 0.46916606, 0.39814575, 0.39814575, 0.59843869,\n",
       "         0.59843869, 0.95284449, 0.95284449, 0.01494764, 0.01494764,\n",
       "         0.27852899, 0.27852899, 0.39668379, 0.39668379, 0.70680171,\n",
       "         0.70680171, 0.84440023, 0.84440023, 0.23377763, 0.23377763,\n",
       "         0.31975958, 0.31975958, 0.54970157, 0.54970157, 0.29842663,\n",
       "         0.29842663, 0.23024086, 0.23024086, 0.14440315, 0.14440315,\n",
       "         0.48344114, 0.48344114, 0.19684746, 0.19684746, 0.65310567,\n",
       "         0.65310567, 0.07256678, 0.07256678, 0.67227826, 0.67227826,\n",
       "         0.67047585, 0.67047585, 0.80179118, 0.80179118, 0.02659665,\n",
       "         0.02659665, 0.31712015, 0.31712015, 0.3533126 , 0.3533126 ,\n",
       "         0.84756367, 0.84756367, 0.61310221, 0.61310221, 0.86576547,\n",
       "         0.86576547, 0.30127136, 0.30127136, 0.74023017, 0.74023017,\n",
       "         0.75575613, 0.75575613, 0.75412728, 0.75412728, 0.02464652,\n",
       "         0.02464652, 0.72155155, 0.72155155, 0.17287776, 0.17287776,\n",
       "         0.08774944, 0.08774944, 0.17708622, 0.17708622, 0.13068294,\n",
       "         0.13068294, 0.24934514, 0.24934514, 0.91879613, 0.91879613,\n",
       "         0.59397197, 0.59397197, 0.69758784, 0.69758784, 0.89761379,\n",
       "         0.89761379, 0.11726079, 0.11726079, 0.32036469, 0.32036469,\n",
       "         0.53936642, 0.53936642, 0.76225516, 0.76225516, 0.05524799,\n",
       "         0.05524799, 0.49111078, 0.49111078, 0.46095699, 0.46095699,\n",
       "         0.78100692, 0.78100692, 0.76417233, 0.76417233, 0.23745625,\n",
       "         0.23745625, 0.88648041, 0.88648041, 0.06144629, 0.06144629,\n",
       "         0.79992069, 0.79992069, 0.93117179, 0.93117179, 0.73654505,\n",
       "         0.73654505, 0.63058663, 0.63058663, 0.11026353, 0.11026353,\n",
       "         0.28644225, 0.28644225, 0.87009492, 0.87009492, 0.88233566,\n",
       "         0.88233566, 0.22472588, 0.22472588, 0.23017015, 0.23017015,\n",
       "         0.95212239, 0.95212239, 0.65897232, 0.65897232, 0.52857675,\n",
       "         0.52857675, 0.88028336, 0.88028336, 0.08208876, 0.08208876])}}"
      ]
     },
     "execution_count": 11,
     "metadata": {},
     "output_type": "execute_result"
    }
   ],
   "source": [
    "ds = load_by_id(run_id_n)\n",
    "ds.get_parameter_data('x1')"
   ]
  },
  {
   "cell_type": "markdown",
   "metadata": {},
   "source": [
    "And a dataset stored as binary arrays"
   ]
  },
  {
   "cell_type": "code",
   "execution_count": 12,
   "metadata": {
    "execution": {
     "iopub.execute_input": "2022-06-09T12:01:00.015748Z",
     "iopub.status.busy": "2022-06-09T12:01:00.015452Z",
     "iopub.status.idle": "2022-06-09T12:01:00.079360Z",
     "shell.execute_reply": "2022-06-09T12:01:00.078449Z"
    },
    "scrolled": true
   },
   "outputs": [
    {
     "data": {
      "text/plain": [
       "{'x1': {'x1': array([[0.94615712],\n",
       "         [0.94615712],\n",
       "         [0.668551  ],\n",
       "         [0.668551  ],\n",
       "         [0.84641965],\n",
       "         [0.84641965],\n",
       "         [0.69025685],\n",
       "         [0.69025685],\n",
       "         [0.42842321],\n",
       "         [0.42842321],\n",
       "         [0.74061625],\n",
       "         [0.74061625],\n",
       "         [0.09979248],\n",
       "         [0.09979248],\n",
       "         [0.0098386 ],\n",
       "         [0.0098386 ],\n",
       "         [0.29994399],\n",
       "         [0.29994399],\n",
       "         [0.55161693],\n",
       "         [0.55161693],\n",
       "         [0.24183316],\n",
       "         [0.24183316],\n",
       "         [0.9110625 ],\n",
       "         [0.9110625 ],\n",
       "         [0.79410483],\n",
       "         [0.79410483],\n",
       "         [0.05765167],\n",
       "         [0.05765167],\n",
       "         [0.90032171],\n",
       "         [0.90032171],\n",
       "         [0.80571115],\n",
       "         [0.80571115],\n",
       "         [0.7082012 ],\n",
       "         [0.7082012 ],\n",
       "         [0.96611393],\n",
       "         [0.96611393],\n",
       "         [0.65458022],\n",
       "         [0.65458022],\n",
       "         [0.89644336],\n",
       "         [0.89644336],\n",
       "         [0.53843312],\n",
       "         [0.53843312],\n",
       "         [0.04446434],\n",
       "         [0.04446434],\n",
       "         [0.81446661],\n",
       "         [0.81446661],\n",
       "         [0.9337722 ],\n",
       "         [0.9337722 ],\n",
       "         [0.97467593],\n",
       "         [0.97467593],\n",
       "         [0.52775052],\n",
       "         [0.52775052],\n",
       "         [0.7455943 ],\n",
       "         [0.7455943 ],\n",
       "         [0.3639361 ],\n",
       "         [0.3639361 ],\n",
       "         [0.34680554],\n",
       "         [0.34680554],\n",
       "         [0.85611219],\n",
       "         [0.85611219],\n",
       "         [0.41014604],\n",
       "         [0.41014604],\n",
       "         [0.86033856],\n",
       "         [0.86033856],\n",
       "         [0.749715  ],\n",
       "         [0.749715  ],\n",
       "         [0.85288575],\n",
       "         [0.85288575],\n",
       "         [0.94098396],\n",
       "         [0.94098396],\n",
       "         [0.61789334],\n",
       "         [0.61789334],\n",
       "         [0.32806606],\n",
       "         [0.32806606],\n",
       "         [0.69972159],\n",
       "         [0.69972159],\n",
       "         [0.07673255],\n",
       "         [0.07673255],\n",
       "         [0.39843424],\n",
       "         [0.39843424],\n",
       "         [0.04216184],\n",
       "         [0.04216184],\n",
       "         [0.20199793],\n",
       "         [0.20199793],\n",
       "         [0.46804363],\n",
       "         [0.46804363],\n",
       "         [0.97541961],\n",
       "         [0.97541961],\n",
       "         [0.20268762],\n",
       "         [0.20268762],\n",
       "         [0.40317453],\n",
       "         [0.40317453],\n",
       "         [0.14473168],\n",
       "         [0.14473168],\n",
       "         [0.06912273],\n",
       "         [0.06912273],\n",
       "         [0.29837151],\n",
       "         [0.29837151],\n",
       "         [0.65289746],\n",
       "         [0.65289746],\n",
       "         [0.4119819 ],\n",
       "         [0.4119819 ],\n",
       "         [0.4000803 ],\n",
       "         [0.4000803 ],\n",
       "         [0.49211655],\n",
       "         [0.49211655],\n",
       "         [0.38568216],\n",
       "         [0.38568216],\n",
       "         [0.47252478],\n",
       "         [0.47252478],\n",
       "         [0.47138549],\n",
       "         [0.47138549],\n",
       "         [0.61012541],\n",
       "         [0.61012541],\n",
       "         [0.36597326],\n",
       "         [0.36597326],\n",
       "         [0.99780902],\n",
       "         [0.99780902],\n",
       "         [0.89207148],\n",
       "         [0.89207148],\n",
       "         [0.94596919],\n",
       "         [0.94596919],\n",
       "         [0.58438082],\n",
       "         [0.58438082],\n",
       "         [0.54633222],\n",
       "         [0.54633222],\n",
       "         [0.34553927],\n",
       "         [0.34553927],\n",
       "         [0.59305212],\n",
       "         [0.59305212],\n",
       "         [0.65748202],\n",
       "         [0.65748202],\n",
       "         [0.07988761],\n",
       "         [0.07988761],\n",
       "         [0.18641865],\n",
       "         [0.18641865],\n",
       "         [0.36054076],\n",
       "         [0.36054076],\n",
       "         [0.04629774],\n",
       "         [0.04629774],\n",
       "         [0.64069941],\n",
       "         [0.64069941],\n",
       "         [0.09822108],\n",
       "         [0.09822108],\n",
       "         [0.41503449],\n",
       "         [0.41503449],\n",
       "         [0.00153485],\n",
       "         [0.00153485],\n",
       "         [0.82185593],\n",
       "         [0.82185593],\n",
       "         [0.60598976],\n",
       "         [0.60598976],\n",
       "         [0.2873922 ],\n",
       "         [0.2873922 ],\n",
       "         [0.02731377],\n",
       "         [0.02731377],\n",
       "         [0.90097347],\n",
       "         [0.90097347],\n",
       "         [0.56534715],\n",
       "         [0.56534715],\n",
       "         [0.36884703],\n",
       "         [0.36884703],\n",
       "         [0.74797054],\n",
       "         [0.74797054],\n",
       "         [0.43843401],\n",
       "         [0.43843401],\n",
       "         [0.82446884],\n",
       "         [0.82446884],\n",
       "         [0.7148037 ],\n",
       "         [0.7148037 ],\n",
       "         [0.06224895],\n",
       "         [0.06224895],\n",
       "         [0.63369671],\n",
       "         [0.63369671],\n",
       "         [0.28583038],\n",
       "         [0.28583038],\n",
       "         [0.77554788],\n",
       "         [0.77554788],\n",
       "         [0.90841661],\n",
       "         [0.90841661],\n",
       "         [0.24231408],\n",
       "         [0.24231408],\n",
       "         [0.9066504 ],\n",
       "         [0.9066504 ],\n",
       "         [0.26753396],\n",
       "         [0.26753396],\n",
       "         [0.41520919],\n",
       "         [0.41520919],\n",
       "         [0.84241044],\n",
       "         [0.84241044],\n",
       "         [0.08500573],\n",
       "         [0.08500573],\n",
       "         [0.48113402],\n",
       "         [0.48113402],\n",
       "         [0.60284689],\n",
       "         [0.60284689],\n",
       "         [0.0773868 ],\n",
       "         [0.0773868 ],\n",
       "         [0.09787996],\n",
       "         [0.09787996]])}}"
      ]
     },
     "execution_count": 12,
     "metadata": {},
     "output_type": "execute_result"
    }
   ],
   "source": [
    "ds = load_by_id(run_id_a)\n",
    "ds.get_parameter_data('x1')"
   ]
  },
  {
   "cell_type": "code",
   "execution_count": null,
   "metadata": {},
   "outputs": [],
   "source": []
  }
 ],
 "metadata": {
  "kernelspec": {
   "display_name": "Python 3",
   "language": "python",
   "name": "python3"
  },
  "language_info": {
   "codemirror_mode": {
    "name": "ipython",
    "version": 3
   },
   "file_extension": ".py",
   "mimetype": "text/x-python",
   "name": "python",
   "nbconvert_exporter": "python",
   "pygments_lexer": "ipython3",
   "version": "3.9.13"
  },
  "nbsphinx": {
   "timeout": 600
  },
  "toc": {
   "base_numbering": 1,
   "nav_menu": {},
   "number_sections": true,
   "sideBar": true,
   "skip_h1_title": false,
   "title_cell": "Table of Contents",
   "title_sidebar": "Contents",
   "toc_cell": false,
   "toc_position": {},
   "toc_section_display": true,
   "toc_window_display": false
  },
  "varInspector": {
   "cols": {
    "lenName": 16,
    "lenType": 16,
    "lenVar": 40
   },
   "kernels_config": {
    "python": {
     "delete_cmd_postfix": "",
     "delete_cmd_prefix": "del ",
     "library": "var_list.py",
     "varRefreshCmd": "print(var_dic_list())"
    },
    "r": {
     "delete_cmd_postfix": ") ",
     "delete_cmd_prefix": "rm(",
     "library": "var_list.r",
     "varRefreshCmd": "cat(var_dic_list()) "
    }
   },
   "types_to_exclude": [
    "module",
    "function",
    "builtin_function_or_method",
    "instance",
    "_Feature"
   ],
   "window_display": false
  }
 },
 "nbformat": 4,
 "nbformat_minor": 4
}
