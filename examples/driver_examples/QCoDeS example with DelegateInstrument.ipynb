{
 "cells": [
  {
   "cell_type": "markdown",
   "id": "plain-primary",
   "metadata": {},
   "source": [
    "# Qcodes example with DelegateInstrument driver\n",
    "\n",
    "This notebooks explains how to use the `DelegateInstrument` driver.\n",
    "\n",
    "## About\n",
    "The goal of the `DelegateInstrument` driver is to make it easier to combine different parameters together into a new \"virtual\" instrument. Each parameter on a `DelegateInstrument` can point to one or more parameters on other instruments in the station.\n",
    "\n",
    "## Usage\n",
    "The way it's used is mainly by specifying an entry in the station YAML. For instance, let's say you want to use a magnetic field coil. The driver has a method set_field(value, block), that by default is set to block=True, which means the field is ramped in a way that blocks further execution until the desired value is reached. However, let's say you are creating a measurement in which you want the parameter to be set, and while the value is ramping, you want to measure other parameters. This can be done by using `DelegateInstrument` and specifying a custom `setter` for the parameter that gets and sets the magnetic field.\n",
    "\n",
    "By default, each parameter is represented by a `DelegateParameter`. The `DelegateInstrument` also supports passing multiple source parameters to a given parameter. In order to do this, simply specify multiple parameters in the dictionary values  under the `parameters` key.\n",
    "\n",
    "It can also add instrument channels, specified under a separate key `channels`, shown in the second half of the notebook."
   ]
  },
  {
   "cell_type": "code",
   "execution_count": 1,
   "id": "sapphire-quebec",
   "metadata": {
    "execution": {
     "iopub.execute_input": "2022-06-09T12:06:56.275991Z",
     "iopub.status.busy": "2022-06-09T12:06:56.275409Z",
     "iopub.status.idle": "2022-06-09T12:06:56.286732Z",
     "shell.execute_reply": "2022-06-09T12:06:56.285783Z"
    }
   },
   "outputs": [
    {
     "name": "stdout",
     "output_type": "stream",
     "text": [
      "Writing example.yaml\n"
     ]
    }
   ],
   "source": [
    "%%writefile example.yaml\n",
    "\n",
    "instruments:\n",
    "  field_X:\n",
    "    type: qcodes.tests.instrument_mocks.MockField\n",
    "\n",
    "  field:\n",
    "    type: qcodes.instrument.delegate.DelegateInstrument\n",
    "    init:\n",
    "      parameters:\n",
    "        X:\n",
    "          - field_X.field\n",
    "        ramp_rate:\n",
    "          - field_X.ramp_rate\n",
    "        combined:\n",
    "          - field_X.field\n",
    "          - field_X.ramp_rate\n",
    "      set_initial_values_on_load: true\n",
    "      initial_values:\n",
    "        ramp_rate: 1.0\n",
    "      setters:\n",
    "        X:\n",
    "          method: field_X.set_field\n",
    "          block: false"
   ]
  },
  {
   "cell_type": "code",
   "execution_count": 2,
   "id": "younger-newspaper",
   "metadata": {
    "execution": {
     "iopub.execute_input": "2022-06-09T12:06:56.290718Z",
     "iopub.status.busy": "2022-06-09T12:06:56.290397Z",
     "iopub.status.idle": "2022-06-09T12:06:56.755305Z",
     "shell.execute_reply": "2022-06-09T12:06:56.754141Z"
    }
   },
   "outputs": [],
   "source": [
    "import qcodes as qc"
   ]
  },
  {
   "cell_type": "code",
   "execution_count": 3,
   "id": "muslim-briefs",
   "metadata": {
    "execution": {
     "iopub.execute_input": "2022-06-09T12:06:56.759872Z",
     "iopub.status.busy": "2022-06-09T12:06:56.759220Z",
     "iopub.status.idle": "2022-06-09T12:06:56.777073Z",
     "shell.execute_reply": "2022-06-09T12:06:56.775940Z"
    }
   },
   "outputs": [],
   "source": [
    "station = qc.Station(config_file=\"example.yaml\")"
   ]
  },
  {
   "cell_type": "code",
   "execution_count": 4,
   "id": "greatest-antenna",
   "metadata": {
    "execution": {
     "iopub.execute_input": "2022-06-09T12:06:56.780911Z",
     "iopub.status.busy": "2022-06-09T12:06:56.780452Z",
     "iopub.status.idle": "2022-06-09T12:06:56.813484Z",
     "shell.execute_reply": "2022-06-09T12:06:56.812334Z"
    }
   },
   "outputs": [
    {
     "name": "stderr",
     "output_type": "stream",
     "text": [
      "[field_X(MockField)] Error getting or interpreting *IDN?: ''\n",
      "Traceback (most recent call last):\n",
      "  File \"/opt/hostedtoolcache/Python/3.9.13/x64/lib/python3.9/site-packages/qcodes/instrument/base.py\", line 635, in get_idn\n",
      "    idstr = self.ask('*IDN?')\n",
      "  File \"/opt/hostedtoolcache/Python/3.9.13/x64/lib/python3.9/site-packages/qcodes/instrument/base.py\", line 956, in ask\n",
      "    raise e\n",
      "  File \"/opt/hostedtoolcache/Python/3.9.13/x64/lib/python3.9/site-packages/qcodes/instrument/base.py\", line 949, in ask\n",
      "    answer = self.ask_raw(cmd)\n",
      "  File \"/opt/hostedtoolcache/Python/3.9.13/x64/lib/python3.9/site-packages/qcodes/instrument/base.py\", line 969, in ask_raw\n",
      "    raise NotImplementedError(\n",
      "NotImplementedError: ('Instrument MockField has not defined an ask method', \"asking '*IDN?' to <MockField: field_X>\")\n"
     ]
    }
   ],
   "source": [
    "field_X = station.load_field_X()\n",
    "field = station.load_field(station=station)"
   ]
  },
  {
   "cell_type": "code",
   "execution_count": 5,
   "id": "every-playing",
   "metadata": {
    "execution": {
     "iopub.execute_input": "2022-06-09T12:06:56.817234Z",
     "iopub.status.busy": "2022-06-09T12:06:56.816944Z",
     "iopub.status.idle": "2022-06-09T12:06:56.828981Z",
     "shell.execute_reply": "2022-06-09T12:06:56.828033Z"
    }
   },
   "outputs": [
    {
     "data": {
      "text/plain": [
       "0.0"
      ]
     },
     "execution_count": 5,
     "metadata": {},
     "output_type": "execute_result"
    }
   ],
   "source": [
    "field.X()"
   ]
  },
  {
   "cell_type": "code",
   "execution_count": 6,
   "id": "undefined-worst",
   "metadata": {
    "execution": {
     "iopub.execute_input": "2022-06-09T12:06:56.832350Z",
     "iopub.status.busy": "2022-06-09T12:06:56.832102Z",
     "iopub.status.idle": "2022-06-09T12:06:56.836271Z",
     "shell.execute_reply": "2022-06-09T12:06:56.835396Z"
    }
   },
   "outputs": [],
   "source": [
    "field.X(1.)"
   ]
  },
  {
   "cell_type": "code",
   "execution_count": 7,
   "id": "recreational-suggestion",
   "metadata": {
    "execution": {
     "iopub.execute_input": "2022-06-09T12:06:56.840035Z",
     "iopub.status.busy": "2022-06-09T12:06:56.839761Z",
     "iopub.status.idle": "2022-06-09T12:06:56.845025Z",
     "shell.execute_reply": "2022-06-09T12:06:56.844147Z"
    }
   },
   "outputs": [
    {
     "data": {
      "text/plain": [
       "0.00012842814127604166"
      ]
     },
     "execution_count": 7,
     "metadata": {},
     "output_type": "execute_result"
    }
   ],
   "source": [
    "field.X()"
   ]
  },
  {
   "cell_type": "code",
   "execution_count": 8,
   "id": "adopted-exchange",
   "metadata": {
    "execution": {
     "iopub.execute_input": "2022-06-09T12:06:56.849412Z",
     "iopub.status.busy": "2022-06-09T12:06:56.849141Z",
     "iopub.status.idle": "2022-06-09T12:06:56.858440Z",
     "shell.execute_reply": "2022-06-09T12:06:56.857145Z"
    }
   },
   "outputs": [
    {
     "data": {
      "text/plain": [
       "0.0002823472023010254"
      ]
     },
     "execution_count": 8,
     "metadata": {},
     "output_type": "execute_result"
    }
   ],
   "source": [
    "field.X()"
   ]
  },
  {
   "cell_type": "code",
   "execution_count": 9,
   "id": "bound-broadcasting",
   "metadata": {
    "execution": {
     "iopub.execute_input": "2022-06-09T12:06:56.862618Z",
     "iopub.status.busy": "2022-06-09T12:06:56.862117Z",
     "iopub.status.idle": "2022-06-09T12:06:56.868190Z",
     "shell.execute_reply": "2022-06-09T12:06:56.867272Z"
    }
   },
   "outputs": [
    {
     "data": {
      "text/plain": [
       "0.0005037506421407064"
      ]
     },
     "execution_count": 9,
     "metadata": {},
     "output_type": "execute_result"
    }
   ],
   "source": [
    "field.X()"
   ]
  },
  {
   "cell_type": "code",
   "execution_count": 10,
   "id": "casual-ghost",
   "metadata": {
    "execution": {
     "iopub.execute_input": "2022-06-09T12:06:56.872046Z",
     "iopub.status.busy": "2022-06-09T12:06:56.871752Z",
     "iopub.status.idle": "2022-06-09T12:06:56.879496Z",
     "shell.execute_reply": "2022-06-09T12:06:56.878352Z"
    }
   },
   "outputs": [
    {
     "data": {
      "text/plain": [
       "0.0006599466005961101"
      ]
     },
     "execution_count": 10,
     "metadata": {},
     "output_type": "execute_result"
    }
   ],
   "source": [
    "field.X()"
   ]
  },
  {
   "cell_type": "markdown",
   "id": "alike-process",
   "metadata": {},
   "source": [
    "As you can see, the field is now ramped in the background with the specified ramp rate. Now, let's try to create a measurement that uses this ability, and ramps the field in the background while measuring:"
   ]
  },
  {
   "cell_type": "code",
   "execution_count": 11,
   "id": "sustained-tiger",
   "metadata": {
    "execution": {
     "iopub.execute_input": "2022-06-09T12:06:56.883684Z",
     "iopub.status.busy": "2022-06-09T12:06:56.882858Z",
     "iopub.status.idle": "2022-06-09T12:06:56.891663Z",
     "shell.execute_reply": "2022-06-09T12:06:56.890391Z"
    }
   },
   "outputs": [],
   "source": [
    "field.ramp_rate(10.)\n",
    "field_X.field(0.0)"
   ]
  },
  {
   "cell_type": "code",
   "execution_count": 12,
   "id": "pharmaceutical-partition",
   "metadata": {
    "execution": {
     "iopub.execute_input": "2022-06-09T12:06:56.896205Z",
     "iopub.status.busy": "2022-06-09T12:06:56.895482Z",
     "iopub.status.idle": "2022-06-09T12:06:56.903308Z",
     "shell.execute_reply": "2022-06-09T12:06:56.902501Z"
    }
   },
   "outputs": [
    {
     "data": {
      "text/plain": [
       "0.0"
      ]
     },
     "execution_count": 12,
     "metadata": {},
     "output_type": "execute_result"
    }
   ],
   "source": [
    "field.X()"
   ]
  },
  {
   "cell_type": "code",
   "execution_count": 13,
   "id": "happy-ordinance",
   "metadata": {
    "execution": {
     "iopub.execute_input": "2022-06-09T12:06:56.907395Z",
     "iopub.status.busy": "2022-06-09T12:06:56.906858Z",
     "iopub.status.idle": "2022-06-09T12:06:58.148482Z",
     "shell.execute_reply": "2022-06-09T12:06:58.147503Z"
    }
   },
   "outputs": [
    {
     "name": "stdout",
     "output_type": "stream",
     "text": [
      "Starting experimental run with id: 60. \n"
     ]
    }
   ],
   "source": [
    "import time\n",
    "meas = qc.Measurement(station=station)\n",
    "meas.register_parameter(field.X)\n",
    "\n",
    "with meas.run() as datasaver:\n",
    "    for B in [0.1, 0.0]:\n",
    "        field.X(B)\n",
    "        while field.X() != B:\n",
    "            datasaver.add_result((field.X, field.X()))\n",
    "            time.sleep(0.01)\n",
    "    datasaver.flush_data_to_database()"
   ]
  },
  {
   "cell_type": "code",
   "execution_count": 14,
   "id": "short-medium",
   "metadata": {
    "execution": {
     "iopub.execute_input": "2022-06-09T12:06:58.152661Z",
     "iopub.status.busy": "2022-06-09T12:06:58.152385Z",
     "iopub.status.idle": "2022-06-09T12:06:59.073262Z",
     "shell.execute_reply": "2022-06-09T12:06:59.072332Z"
    }
   },
   "outputs": [
    {
     "data": {
      "text/plain": [
       "<AxesSubplot:>"
      ]
     },
     "execution_count": 14,
     "metadata": {},
     "output_type": "execute_result"
    },
    {
     "data": {
      "image/png": "[encoded data removed]",
      "text/plain": [
       "<Figure size 432x288 with 1 Axes>"
      ]
     },
     "metadata": {
      "needs_background": "light"
     },
     "output_type": "display_data"
    }
   ],
   "source": [
    "datasaver.dataset.to_pandas_dataframe().plot()"
   ]
  },
  {
   "cell_type": "markdown",
   "id": "incomplete-vietnamese",
   "metadata": {},
   "source": [
    "When specifying multiple source parameters on a given parameter, the grouped parameter will automatically return a `namedtuple` that returns both values."
   ]
  },
  {
   "cell_type": "code",
   "execution_count": 15,
   "id": "dangerous-finder",
   "metadata": {
    "execution": {
     "iopub.execute_input": "2022-06-09T12:06:59.078292Z",
     "iopub.status.busy": "2022-06-09T12:06:59.077718Z",
     "iopub.status.idle": "2022-06-09T12:06:59.086511Z",
     "shell.execute_reply": "2022-06-09T12:06:59.085560Z"
    }
   },
   "outputs": [
    {
     "data": {
      "text/plain": [
       "combined(field=0.0, ramp_rate=10.0)"
      ]
     },
     "execution_count": 15,
     "metadata": {},
     "output_type": "execute_result"
    }
   ],
   "source": [
    "field.combined()"
   ]
  },
  {
   "cell_type": "markdown",
   "id": "consolidated-cooper",
   "metadata": {},
   "source": [
    "We can now also create a custom parameter that does a simple calculation based on the current parameters."
   ]
  },
  {
   "cell_type": "code",
   "execution_count": 16,
   "id": "designed-bloom",
   "metadata": {
    "execution": {
     "iopub.execute_input": "2022-06-09T12:06:59.090331Z",
     "iopub.status.busy": "2022-06-09T12:06:59.090050Z",
     "iopub.status.idle": "2022-06-09T12:06:59.094879Z",
     "shell.execute_reply": "2022-06-09T12:06:59.093998Z"
    }
   },
   "outputs": [],
   "source": [
    "import numpy as np\n",
    "\n",
    "def calculate_ramp_time(X, ramp_rate):\n",
    "    \"\"\"Calculate ramp time in seconds\"\"\"\n",
    "    dfield = np.abs(field.target_field - X)\n",
    "    return 60. * dfield/ramp_rate"
   ]
  },
  {
   "cell_type": "code",
   "execution_count": 17,
   "id": "disabled-logic",
   "metadata": {
    "execution": {
     "iopub.execute_input": "2022-06-09T12:06:59.098969Z",
     "iopub.status.busy": "2022-06-09T12:06:59.098692Z",
     "iopub.status.idle": "2022-06-09T12:06:59.103149Z",
     "shell.execute_reply": "2022-06-09T12:06:59.102255Z"
    },
    "scrolled": true
   },
   "outputs": [],
   "source": [
    "field._create_and_add_parameter(\n",
    "    group_name=\"ramp_time\",\n",
    "    station=station,\n",
    "    paths=[\"field_X.field\", \"field_X.ramp_rate\"],\n",
    "    formatter=calculate_ramp_time\n",
    ")"
   ]
  },
  {
   "cell_type": "code",
   "execution_count": 18,
   "id": "adverse-february",
   "metadata": {
    "execution": {
     "iopub.execute_input": "2022-06-09T12:06:59.106943Z",
     "iopub.status.busy": "2022-06-09T12:06:59.106675Z",
     "iopub.status.idle": "2022-06-09T12:06:59.112952Z",
     "shell.execute_reply": "2022-06-09T12:06:59.111716Z"
    }
   },
   "outputs": [
    {
     "data": {
      "text/plain": [
       "6.0"
      ]
     },
     "execution_count": 18,
     "metadata": {},
     "output_type": "execute_result"
    }
   ],
   "source": [
    "field.ramp_rate(1.0)\n",
    "field.target_field = 0.1\n",
    "field.ramp_time()"
   ]
  },
  {
   "cell_type": "code",
   "execution_count": 19,
   "id": "statutory-xerox",
   "metadata": {
    "execution": {
     "iopub.execute_input": "2022-06-09T12:06:59.117955Z",
     "iopub.status.busy": "2022-06-09T12:06:59.117529Z",
     "iopub.status.idle": "2022-06-09T12:06:59.121715Z",
     "shell.execute_reply": "2022-06-09T12:06:59.120818Z"
    }
   },
   "outputs": [],
   "source": [
    "field.X(0.1)"
   ]
  },
  {
   "cell_type": "code",
   "execution_count": 20,
   "id": "varying-auditor",
   "metadata": {
    "execution": {
     "iopub.execute_input": "2022-06-09T12:06:59.125689Z",
     "iopub.status.busy": "2022-06-09T12:06:59.125183Z",
     "iopub.status.idle": "2022-06-09T12:06:59.131065Z",
     "shell.execute_reply": "2022-06-09T12:06:59.130174Z"
    }
   },
   "outputs": [
    {
     "data": {
      "text/plain": [
       "5.992220401763917"
      ]
     },
     "execution_count": 20,
     "metadata": {},
     "output_type": "execute_result"
    }
   ],
   "source": [
    "field.ramp_time()"
   ]
  },
  {
   "cell_type": "code",
   "execution_count": 21,
   "id": "chubby-nickel",
   "metadata": {
    "execution": {
     "iopub.execute_input": "2022-06-09T12:06:59.135766Z",
     "iopub.status.busy": "2022-06-09T12:06:59.135180Z",
     "iopub.status.idle": "2022-06-09T12:07:00.142941Z",
     "shell.execute_reply": "2022-06-09T12:07:00.141903Z"
    }
   },
   "outputs": [
    {
     "data": {
      "text/plain": [
       "4.980438709259033"
      ]
     },
     "execution_count": 21,
     "metadata": {},
     "output_type": "execute_result"
    }
   ],
   "source": [
    "import time\n",
    "time.sleep(1.)\n",
    "field.ramp_time()"
   ]
  },
  {
   "cell_type": "code",
   "execution_count": 22,
   "id": "italian-liberty",
   "metadata": {
    "execution": {
     "iopub.execute_input": "2022-06-09T12:07:00.148437Z",
     "iopub.status.busy": "2022-06-09T12:07:00.146369Z",
     "iopub.status.idle": "2022-06-09T12:07:01.155576Z",
     "shell.execute_reply": "2022-06-09T12:07:01.154593Z"
    }
   },
   "outputs": [
    {
     "data": {
      "text/plain": [
       "3.9677627086639404"
      ]
     },
     "execution_count": 22,
     "metadata": {},
     "output_type": "execute_result"
    }
   ],
   "source": [
    "import time\n",
    "time.sleep(1.)\n",
    "field.ramp_time()"
   ]
  },
  {
   "cell_type": "markdown",
   "id": "e5800d35",
   "metadata": {},
   "source": [
    "# Devices with channels"
   ]
  },
  {
   "cell_type": "markdown",
   "id": "450805c1",
   "metadata": {},
   "source": [
    "The YAML file below specifies the instruments with the channels/parameters we wish to group into a new instrument, here called \"device\". The first example simply adds the channel 'as is' using self.add_submodule, while the readout parameter is added as a DelegateParameter."
   ]
  },
  {
   "cell_type": "code",
   "execution_count": 23,
   "id": "1191995c",
   "metadata": {
    "execution": {
     "iopub.execute_input": "2022-06-09T12:07:01.160423Z",
     "iopub.status.busy": "2022-06-09T12:07:01.159555Z",
     "iopub.status.idle": "2022-06-09T12:07:01.165523Z",
     "shell.execute_reply": "2022-06-09T12:07:01.164600Z"
    }
   },
   "outputs": [
    {
     "name": "stdout",
     "output_type": "stream",
     "text": [
      "Overwriting example.yaml\n"
     ]
    }
   ],
   "source": [
    "%%writefile example.yaml\n",
    "\n",
    "instruments:\n",
    "  lockin:\n",
    "    type: qcodes.tests.instrument_mocks.MockLockin\n",
    "\n",
    "  dac:\n",
    "    type: qcodes.tests.instrument_mocks.MockDAC   \n",
    "\n",
    "  device:\n",
    "    type: qcodes.instrument.delegate.DelegateInstrument\n",
    "    init:\n",
    "      parameters:\n",
    "        readout: lockin.X\n",
    "      channels:\n",
    "        gate_1: dac.ch01\n",
    "      set_initial_values_on_load: true\n",
    "      initial_values:\n",
    "        readout: 1e-5\n",
    "        gate_1.voltage.post_delay: 0.01"
   ]
  },
  {
   "cell_type": "code",
   "execution_count": 24,
   "id": "03e6170d",
   "metadata": {
    "execution": {
     "iopub.execute_input": "2022-06-09T12:07:01.169741Z",
     "iopub.status.busy": "2022-06-09T12:07:01.169460Z",
     "iopub.status.idle": "2022-06-09T12:07:01.185285Z",
     "shell.execute_reply": "2022-06-09T12:07:01.184345Z"
    }
   },
   "outputs": [],
   "source": [
    "station = qc.Station(config_file=\"example.yaml\")"
   ]
  },
  {
   "cell_type": "code",
   "execution_count": 25,
   "id": "409ebb3b",
   "metadata": {
    "execution": {
     "iopub.execute_input": "2022-06-09T12:07:01.189264Z",
     "iopub.status.busy": "2022-06-09T12:07:01.188827Z",
     "iopub.status.idle": "2022-06-09T12:07:01.241246Z",
     "shell.execute_reply": "2022-06-09T12:07:01.240312Z"
    }
   },
   "outputs": [
    {
     "name": "stderr",
     "output_type": "stream",
     "text": [
      "[lockin(MockLockin)] Error getting or interpreting *IDN?: ''\n",
      "Traceback (most recent call last):\n",
      "  File \"/opt/hostedtoolcache/Python/3.9.13/x64/lib/python3.9/site-packages/qcodes/instrument/base.py\", line 635, in get_idn\n",
      "    idstr = self.ask('*IDN?')\n",
      "  File \"/opt/hostedtoolcache/Python/3.9.13/x64/lib/python3.9/site-packages/qcodes/instrument/base.py\", line 956, in ask\n",
      "    raise e\n",
      "  File \"/opt/hostedtoolcache/Python/3.9.13/x64/lib/python3.9/site-packages/qcodes/instrument/base.py\", line 949, in ask\n",
      "    answer = self.ask_raw(cmd)\n",
      "  File \"/opt/hostedtoolcache/Python/3.9.13/x64/lib/python3.9/site-packages/qcodes/instrument/base.py\", line 969, in ask_raw\n",
      "    raise NotImplementedError(\n",
      "NotImplementedError: ('Instrument MockLockin has not defined an ask method', \"asking '*IDN?' to <MockLockin: lockin>\")\n"
     ]
    },
    {
     "name": "stderr",
     "output_type": "stream",
     "text": [
      "[dac(MockDAC)] Error getting or interpreting *IDN?: ''\n",
      "Traceback (most recent call last):\n",
      "  File \"/opt/hostedtoolcache/Python/3.9.13/x64/lib/python3.9/site-packages/qcodes/instrument/base.py\", line 635, in get_idn\n",
      "    idstr = self.ask('*IDN?')\n",
      "  File \"/opt/hostedtoolcache/Python/3.9.13/x64/lib/python3.9/site-packages/qcodes/instrument/base.py\", line 956, in ask\n",
      "    raise e\n",
      "  File \"/opt/hostedtoolcache/Python/3.9.13/x64/lib/python3.9/site-packages/qcodes/instrument/base.py\", line 949, in ask\n",
      "    answer = self.ask_raw(cmd)\n",
      "  File \"/opt/hostedtoolcache/Python/3.9.13/x64/lib/python3.9/site-packages/qcodes/instrument/base.py\", line 969, in ask_raw\n",
      "    raise NotImplementedError(\n",
      "NotImplementedError: ('Instrument MockDAC has not defined an ask method', \"asking '*IDN?' to <MockDAC: dac>\")\n"
     ]
    }
   ],
   "source": [
    "lockin = station.load_lockin()\n",
    "dac = station.load_dac()\n",
    "device = station.load_device(station=station)"
   ]
  },
  {
   "cell_type": "code",
   "execution_count": 26,
   "id": "90244e20",
   "metadata": {
    "execution": {
     "iopub.execute_input": "2022-06-09T12:07:01.245446Z",
     "iopub.status.busy": "2022-06-09T12:07:01.244902Z",
     "iopub.status.idle": "2022-06-09T12:07:01.251980Z",
     "shell.execute_reply": "2022-06-09T12:07:01.251057Z"
    }
   },
   "outputs": [
    {
     "name": "stdout",
     "output_type": "stream",
     "text": [
      "<MockDACChannel: dac_ch01 of MockDAC: dac>\n",
      "0.01\n"
     ]
    }
   ],
   "source": [
    "print(device.gate_1)\n",
    "print(device.gate_1.voltage.post_delay)"
   ]
  },
  {
   "cell_type": "code",
   "execution_count": 27,
   "id": "e03d458c",
   "metadata": {
    "execution": {
     "iopub.execute_input": "2022-06-09T12:07:01.255769Z",
     "iopub.status.busy": "2022-06-09T12:07:01.255499Z",
     "iopub.status.idle": "2022-06-09T12:07:01.272014Z",
     "shell.execute_reply": "2022-06-09T12:07:01.271090Z"
    }
   },
   "outputs": [
    {
     "name": "stdout",
     "output_type": "stream",
     "text": [
      "0.0\n"
     ]
    },
    {
     "data": {
      "text/plain": [
       "-0.6"
      ]
     },
     "execution_count": 27,
     "metadata": {},
     "output_type": "execute_result"
    }
   ],
   "source": [
    "print(device.gate_1.voltage())\n",
    "device.gate_1.voltage(-0.6)\n",
    "device.gate_1.voltage()"
   ]
  },
  {
   "cell_type": "markdown",
   "id": "d8ecfcc5",
   "metadata": {},
   "source": [
    "The second example adds a channel using a custom channel class, which takes the initial channel and its name as input and has a parameter current_valid_ranges."
   ]
  },
  {
   "cell_type": "code",
   "execution_count": 28,
   "id": "0a17cfde",
   "metadata": {
    "execution": {
     "iopub.execute_input": "2022-06-09T12:07:01.275748Z",
     "iopub.status.busy": "2022-06-09T12:07:01.275347Z",
     "iopub.status.idle": "2022-06-09T12:07:01.281351Z",
     "shell.execute_reply": "2022-06-09T12:07:01.280335Z"
    }
   },
   "outputs": [
    {
     "name": "stdout",
     "output_type": "stream",
     "text": [
      "Overwriting example.yaml\n"
     ]
    }
   ],
   "source": [
    "%%writefile example.yaml\n",
    "\n",
    "instruments:\n",
    "  lockin:\n",
    "    type: qcodes.tests.instrument_mocks.MockLockin\n",
    "\n",
    "  dac:\n",
    "    type: qcodes.tests.instrument_mocks.MockDAC   \n",
    "\n",
    "  device:\n",
    "    type: qcodes.instrument.delegate.DelegateInstrument\n",
    "    init:\n",
    "      parameters:\n",
    "        readout: lockin.X\n",
    "      channels:\n",
    "        type: qcodes.tests.instrument_mocks.MockCustomChannel\n",
    "        gate_1: \n",
    "          channel: dac.ch01\n",
    "          current_valid_range: [-0.5, 0]\n",
    "      set_initial_values_on_load: true\n",
    "      initial_values:\n",
    "        readout: 1e-5"
   ]
  },
  {
   "cell_type": "code",
   "execution_count": 29,
   "id": "4227cfc5",
   "metadata": {
    "execution": {
     "iopub.execute_input": "2022-06-09T12:07:01.285355Z",
     "iopub.status.busy": "2022-06-09T12:07:01.284902Z",
     "iopub.status.idle": "2022-06-09T12:07:01.291021Z",
     "shell.execute_reply": "2022-06-09T12:07:01.290101Z"
    }
   },
   "outputs": [],
   "source": [
    "lockin.close()\n",
    "dac.close()"
   ]
  },
  {
   "cell_type": "code",
   "execution_count": 30,
   "id": "fd77560d",
   "metadata": {
    "execution": {
     "iopub.execute_input": "2022-06-09T12:07:01.295363Z",
     "iopub.status.busy": "2022-06-09T12:07:01.294595Z",
     "iopub.status.idle": "2022-06-09T12:07:01.347515Z",
     "shell.execute_reply": "2022-06-09T12:07:01.346581Z"
    }
   },
   "outputs": [
    {
     "name": "stderr",
     "output_type": "stream",
     "text": [
      "[lockin(MockLockin)] Error getting or interpreting *IDN?: ''\n",
      "Traceback (most recent call last):\n",
      "  File \"/opt/hostedtoolcache/Python/3.9.13/x64/lib/python3.9/site-packages/qcodes/instrument/base.py\", line 635, in get_idn\n",
      "    idstr = self.ask('*IDN?')\n",
      "  File \"/opt/hostedtoolcache/Python/3.9.13/x64/lib/python3.9/site-packages/qcodes/instrument/base.py\", line 956, in ask\n",
      "    raise e\n",
      "  File \"/opt/hostedtoolcache/Python/3.9.13/x64/lib/python3.9/site-packages/qcodes/instrument/base.py\", line 949, in ask\n",
      "    answer = self.ask_raw(cmd)\n",
      "  File \"/opt/hostedtoolcache/Python/3.9.13/x64/lib/python3.9/site-packages/qcodes/instrument/base.py\", line 969, in ask_raw\n",
      "    raise NotImplementedError(\n",
      "NotImplementedError: ('Instrument MockLockin has not defined an ask method', \"asking '*IDN?' to <MockLockin: lockin>\")\n"
     ]
    },
    {
     "name": "stderr",
     "output_type": "stream",
     "text": [
      "[dac(MockDAC)] Error getting or interpreting *IDN?: ''\n",
      "Traceback (most recent call last):\n",
      "  File \"/opt/hostedtoolcache/Python/3.9.13/x64/lib/python3.9/site-packages/qcodes/instrument/base.py\", line 635, in get_idn\n",
      "    idstr = self.ask('*IDN?')\n",
      "  File \"/opt/hostedtoolcache/Python/3.9.13/x64/lib/python3.9/site-packages/qcodes/instrument/base.py\", line 956, in ask\n",
      "    raise e\n",
      "  File \"/opt/hostedtoolcache/Python/3.9.13/x64/lib/python3.9/site-packages/qcodes/instrument/base.py\", line 949, in ask\n",
      "    answer = self.ask_raw(cmd)\n",
      "  File \"/opt/hostedtoolcache/Python/3.9.13/x64/lib/python3.9/site-packages/qcodes/instrument/base.py\", line 969, in ask_raw\n",
      "    raise NotImplementedError(\n",
      "NotImplementedError: ('Instrument MockDAC has not defined an ask method', \"asking '*IDN?' to <MockDAC: dac>\")\n"
     ]
    }
   ],
   "source": [
    "station = qc.Station(config_file=\"example.yaml\")\n",
    "lockin = station.load_lockin()\n",
    "dac = station.load_dac()"
   ]
  },
  {
   "cell_type": "code",
   "execution_count": 31,
   "id": "458e6161",
   "metadata": {
    "execution": {
     "iopub.execute_input": "2022-06-09T12:07:01.351405Z",
     "iopub.status.busy": "2022-06-09T12:07:01.350893Z",
     "iopub.status.idle": "2022-06-09T12:07:01.369335Z",
     "shell.execute_reply": "2022-06-09T12:07:01.368418Z"
    }
   },
   "outputs": [],
   "source": [
    "device = station.load_device(station=station)"
   ]
  },
  {
   "cell_type": "code",
   "execution_count": 32,
   "id": "0ce02382",
   "metadata": {
    "execution": {
     "iopub.execute_input": "2022-06-09T12:07:01.373540Z",
     "iopub.status.busy": "2022-06-09T12:07:01.373272Z",
     "iopub.status.idle": "2022-06-09T12:07:01.381455Z",
     "shell.execute_reply": "2022-06-09T12:07:01.380514Z"
    }
   },
   "outputs": [
    {
     "data": {
      "text/plain": [
       "<MockCustomChannel: dac_gate_1 of MockDAC: dac>"
      ]
     },
     "execution_count": 32,
     "metadata": {},
     "output_type": "execute_result"
    }
   ],
   "source": [
    "device.gate_1"
   ]
  },
  {
   "cell_type": "code",
   "execution_count": 33,
   "id": "7527026e",
   "metadata": {
    "execution": {
     "iopub.execute_input": "2022-06-09T12:07:01.385260Z",
     "iopub.status.busy": "2022-06-09T12:07:01.384959Z",
     "iopub.status.idle": "2022-06-09T12:07:01.390570Z",
     "shell.execute_reply": "2022-06-09T12:07:01.389596Z"
    }
   },
   "outputs": [],
   "source": [
    "device.gate_1.voltage(-0.3)"
   ]
  },
  {
   "cell_type": "code",
   "execution_count": 34,
   "id": "0e6d48d1",
   "metadata": {
    "execution": {
     "iopub.execute_input": "2022-06-09T12:07:01.394301Z",
     "iopub.status.busy": "2022-06-09T12:07:01.394006Z",
     "iopub.status.idle": "2022-06-09T12:07:01.402839Z",
     "shell.execute_reply": "2022-06-09T12:07:01.401903Z"
    }
   },
   "outputs": [
    {
     "data": {
      "text/plain": [
       "-0.3"
      ]
     },
     "execution_count": 34,
     "metadata": {},
     "output_type": "execute_result"
    }
   ],
   "source": [
    "device.gate_1.voltage()"
   ]
  },
  {
   "cell_type": "markdown",
   "id": "5d05f7d3",
   "metadata": {},
   "source": [
    "The MockCustomChannel has a parameter `current_valid_range`."
   ]
  },
  {
   "cell_type": "code",
   "execution_count": 35,
   "id": "273f8328",
   "metadata": {
    "execution": {
     "iopub.execute_input": "2022-06-09T12:07:01.407591Z",
     "iopub.status.busy": "2022-06-09T12:07:01.407096Z",
     "iopub.status.idle": "2022-06-09T12:07:01.415743Z",
     "shell.execute_reply": "2022-06-09T12:07:01.414817Z"
    }
   },
   "outputs": [
    {
     "data": {
      "text/plain": [
       "[-0.5, 0]"
      ]
     },
     "execution_count": 35,
     "metadata": {},
     "output_type": "execute_result"
    }
   ],
   "source": [
    "device.gate_1.current_valid_range()"
   ]
  }
 ],
 "metadata": {
  "kernelspec": {
   "display_name": "Python 3.7.9 64-bit ('qcodes_fork': conda)",
   "name": "python379jvsc74a57bd02b540bc2d5f6bd8c1d4c354bd6559a26f5871610d8f84463e1d37eff37c7ba44"
  },
  "language_info": {
   "codemirror_mode": {
    "name": "ipython",
    "version": 3
   },
   "file_extension": ".py",
   "mimetype": "text/x-python",
   "name": "python",
   "nbconvert_exporter": "python",
   "pygments_lexer": "ipython3",
   "version": "3.9.13"
  }
 },
 "nbformat": 4,
 "nbformat_minor": 5
}
